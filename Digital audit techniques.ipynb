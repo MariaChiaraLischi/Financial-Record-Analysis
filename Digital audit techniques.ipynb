{
 "cells": [
  {
   "cell_type": "markdown",
   "metadata": {},
   "source": [
    "# Digital Audit Techniques: Analysing Financial Records for Journal Entry Testing and Anomaly Detection"
   ]
  },
  {
   "cell_type": "markdown",
   "metadata": {},
   "source": [
    "--------------"
   ]
  },
  {
   "cell_type": "markdown",
   "metadata": {},
   "source": [
    "## Table of Contents\n",
    "\n",
    "1. [Introduction](#Introduction)\n",
    "\n",
    "2. [Data Import](#Data_Import)\n",
    "\n",
    "3. [Exploratory Data Analysis](#Exploratory_Data_Analysis)\n",
    "\n",
    "4. [Data Preparation](#Data_Preparation)\n",
    "\n",
    "   4.1 [Conversion of data type](#Conversion_of_Data_Types)\n",
    "\n",
    "   4.2 [Data Filtering](#Data_Filtering)\n",
    "   \n",
    "5. [Modeling](#Modeling)\n",
    "   \n",
    "   5.1 [Sunday Entries](#Sunday_Entries)\n",
    "\n",
    "   5.2 [Cash Minus Inspection](#Cash_Minus_Inspection)\n",
    "\n",
    "   5.3 [Checking for duplicates](#Checking_for_duplicates)\n",
    "\n",
    "   5.4 [Checking the pre-decimal digits for equal (uniform) distribution](#Checking_the_pre-decimal_digits_for_equal_distribution)\n",
    "\n",
    "   5.5 [Checking the leading digit for a Benford distribution](#Checking_the_leading_digit_for_a_Benford_distribution)\n",
    "   \n",
    "6. [Evaluation](#Evaluation)\n",
    "\n",
    "\n"
   ]
  },
  {
   "cell_type": "markdown",
   "metadata": {},
   "source": [
    "--------------"
   ]
  },
  {
   "cell_type": "markdown",
   "metadata": {},
   "source": [
    "## 1. Introduction <a id=\"Introduction\"></a>\n",
    "\n",
    "This project is about applying digital audit techniques to synthetic datasets that simulate real-world financial records. The goal is to conduct a Journal Entry Test to evaluate the integrity of financial statements."
   ]
  },
  {
   "cell_type": "markdown",
   "metadata": {},
   "source": [
    "--------------"
   ]
  },
  {
   "cell_type": "markdown",
   "metadata": {},
   "source": [
    "## 2. Data Import <a id=\"Data_Import\"></a>"
   ]
  },
  {
   "cell_type": "markdown",
   "metadata": {},
   "source": [
    "We start by loading the necessary libraries for subsequent analysis."
   ]
  },
  {
   "cell_type": "markdown",
   "metadata": {},
   "source": [
    "[Code section 1]"
   ]
  },
  {
   "cell_type": "code",
   "execution_count": 1,
   "metadata": {},
   "outputs": [],
   "source": [
    "# IMPORTING LIBRARIES\n",
    "\n",
    "import datetime\n",
    "import math\n",
    "import pandas as pd\n",
    "import numpy as np\n",
    "import scipy as sp\n",
    "import matplotlib.pyplot as plt\n",
    "import plotly.io as pio\n",
    "import plotly.express as px"
   ]
  },
  {
   "cell_type": "markdown",
   "metadata": {},
   "source": [
    "We also load the datasets, which are stored in CSV files. The datasets provided include:\n",
    "- Accounts Payable Data `accountspayable.csv`: Vendor master data, containing details about suppliers or service providers with outstanding liabilities.\n",
    "- Accounts Receivable Data `accountsreceivable.csv`: Customer master data, with basic information about the company's customers.\n",
    "- Bank Accounts Data `bankaccounts.csv`: Bank master data, detailing the company’s financial institutions and accounts.\n",
    "- Transactions Data `transactions.csv`: Posting records that reflect movements in the company’s accounts."
   ]
  },
  {
   "cell_type": "markdown",
   "metadata": {},
   "source": [
    "[Code section 2]"
   ]
  },
  {
   "cell_type": "code",
   "execution_count": 2,
   "metadata": {},
   "outputs": [],
   "source": [
    "# IMPORTING DATASETS\n",
    "\n",
    "df_accounts_payable = pd.read_csv('accountspayable.csv', sep = \";\", encoding = \"UTF-8\")\n",
    "df_accounts_receivable = pd.read_csv('accountsreceivable.csv', sep = \";\", encoding = \"UTF-8\")\n",
    "df_bank_accounts = pd.read_csv('bankaccounts.csv', sep = \";\", encoding = \"UTF-8\")\n",
    "df_transactions = pd.read_csv('transactions.csv', sep = \";\", encoding = \"UTF-8\")"
   ]
  },
  {
   "cell_type": "markdown",
   "metadata": {},
   "source": [
    "--------------"
   ]
  },
  {
   "cell_type": "markdown",
   "metadata": {},
   "source": [
    "## 3. Exploratory Data Analysis <a id=\"Exploratory_Data_Analysis\"></a>\n",
    "\n",
    "The datasets that we have loaded are saved in variables of the type DataFrame, as shown below using the `type` function.\n",
    "\n",
    "The DataFrame is a two-dimensional data structure that can store data of different types in columns provided by the pandas library."
   ]
  },
  {
   "cell_type": "markdown",
   "metadata": {},
   "source": [
    "[Code section 3]"
   ]
  },
  {
   "cell_type": "code",
   "execution_count": 3,
   "metadata": {},
   "outputs": [
    {
     "data": {
      "text/plain": [
       "pandas.core.frame.DataFrame"
      ]
     },
     "execution_count": 3,
     "metadata": {},
     "output_type": "execute_result"
    }
   ],
   "source": [
    "# TYPE FUNCTION\n",
    "\n",
    "type(df_accounts_payable)\n",
    "type(df_accounts_receivable)\n",
    "type(df_bank_accounts)\n",
    "type(df_transactions)"
   ]
  },
  {
   "cell_type": "markdown",
   "metadata": {},
   "source": [
    "Every DataFrame is characterized by a number of rows and columns. The rows are the individual records, while the columns are the attributes of the records. The columns are the variables that we can use to analyze the data. The `shape` attribute of a DataFrame returns the number of rows and columns."
   ]
  },
  {
   "cell_type": "markdown",
   "metadata": {},
   "source": [
    "[Code section 4]"
   ]
  },
  {
   "cell_type": "code",
   "execution_count": 4,
   "metadata": {},
   "outputs": [
    {
     "name": "stdout",
     "output_type": "stream",
     "text": [
      "The shape of the \"Accounts Payable\" data-frame is: (21, 7)\n",
      "The shape of the \"Accounts Receivable\" data-frame is: (21, 7)\n",
      "The shape of the \"Bank Accounts\" data-frame is: (31, 9)\n",
      "The shape of the \"Transactions\" data-frame is: (107, 12)\n"
     ]
    }
   ],
   "source": [
    "# SHAPE ATTRIBUTE\n",
    "\n",
    "print(\"The shape of the \\\"Accounts Payable\\\" data-frame is:\", df_accounts_payable.shape)\n",
    "print(\"The shape of the \\\"Accounts Receivable\\\" data-frame is:\", df_accounts_receivable.shape)\n",
    "print(\"The shape of the \\\"Bank Accounts\\\" data-frame is:\", df_bank_accounts.shape)\n",
    "print(\"The shape of the \\\"Transactions\\\" data-frame is:\", df_transactions.shape)"
   ]
  },
  {
   "cell_type": "markdown",
   "metadata": {},
   "source": [
    "Now, we will display the first few rows of the DataFrames using the `head(n)` method, which returns the first n rows of the DataFrame. The default value of n is 5."
   ]
  },
  {
   "cell_type": "markdown",
   "metadata": {},
   "source": [
    "[Code section 5]"
   ]
  },
  {
   "cell_type": "code",
   "execution_count": 5,
   "metadata": {},
   "outputs": [
    {
     "name": "stdout",
     "output_type": "stream",
     "text": [
      "The first 3 rows of the \"Accounts Payable\" data-frame are:\n"
     ]
    },
    {
     "data": {
      "text/html": [
       "<div>\n",
       "<style scoped>\n",
       "    .dataframe tbody tr th:only-of-type {\n",
       "        vertical-align: middle;\n",
       "    }\n",
       "\n",
       "    .dataframe tbody tr th {\n",
       "        vertical-align: top;\n",
       "    }\n",
       "\n",
       "    .dataframe thead th {\n",
       "        text-align: right;\n",
       "    }\n",
       "</style>\n",
       "<table border=\"1\" class=\"dataframe\">\n",
       "  <thead>\n",
       "    <tr style=\"text-align: right;\">\n",
       "      <th></th>\n",
       "      <th>Creditor_ID</th>\n",
       "      <th>Firm</th>\n",
       "      <th>Street</th>\n",
       "      <th>HouseNr.</th>\n",
       "      <th>City</th>\n",
       "      <th>Postcode</th>\n",
       "      <th>Country</th>\n",
       "    </tr>\n",
       "  </thead>\n",
       "  <tbody>\n",
       "    <tr>\n",
       "      <th>0</th>\n",
       "      <td>1</td>\n",
       "      <td>Workflow GmbH</td>\n",
       "      <td>Berlinerstraße</td>\n",
       "      <td>12</td>\n",
       "      <td>Berlin</td>\n",
       "      <td>10115</td>\n",
       "      <td>Germany</td>\n",
       "    </tr>\n",
       "    <tr>\n",
       "      <th>1</th>\n",
       "      <td>2</td>\n",
       "      <td>Consulting_solutions</td>\n",
       "      <td>Elysees</td>\n",
       "      <td>11</td>\n",
       "      <td>Montord</td>\n",
       "      <td>33452</td>\n",
       "      <td>France</td>\n",
       "    </tr>\n",
       "    <tr>\n",
       "      <th>2</th>\n",
       "      <td>3</td>\n",
       "      <td>Consulting_regulations</td>\n",
       "      <td>Prugne</td>\n",
       "      <td>73</td>\n",
       "      <td>Cesset</td>\n",
       "      <td>24532</td>\n",
       "      <td>France</td>\n",
       "    </tr>\n",
       "  </tbody>\n",
       "</table>\n",
       "</div>"
      ],
      "text/plain": [
       "   Creditor_ID                    Firm          Street  HouseNr.     City  \\\n",
       "0            1           Workflow GmbH  Berlinerstraße        12   Berlin   \n",
       "1            2    Consulting_solutions         Elysees        11  Montord   \n",
       "2            3  Consulting_regulations          Prugne        73   Cesset   \n",
       "\n",
       "   Postcode  Country  \n",
       "0     10115  Germany  \n",
       "1     33452   France  \n",
       "2     24532   France  "
      ]
     },
     "metadata": {},
     "output_type": "display_data"
    },
    {
     "name": "stdout",
     "output_type": "stream",
     "text": [
      "The first 3 rows of the \"Accounts Receivable\" data-frame are:\n"
     ]
    },
    {
     "data": {
      "text/html": [
       "<div>\n",
       "<style scoped>\n",
       "    .dataframe tbody tr th:only-of-type {\n",
       "        vertical-align: middle;\n",
       "    }\n",
       "\n",
       "    .dataframe tbody tr th {\n",
       "        vertical-align: top;\n",
       "    }\n",
       "\n",
       "    .dataframe thead th {\n",
       "        text-align: right;\n",
       "    }\n",
       "</style>\n",
       "<table border=\"1\" class=\"dataframe\">\n",
       "  <thead>\n",
       "    <tr style=\"text-align: right;\">\n",
       "      <th></th>\n",
       "      <th>Creditor_ID</th>\n",
       "      <th>Firm</th>\n",
       "      <th>Street</th>\n",
       "      <th>HouseNr.</th>\n",
       "      <th>City</th>\n",
       "      <th>Postcode</th>\n",
       "      <th>Country</th>\n",
       "    </tr>\n",
       "  </thead>\n",
       "  <tbody>\n",
       "    <tr>\n",
       "      <th>0</th>\n",
       "      <td>1</td>\n",
       "      <td>Workflow GmbH</td>\n",
       "      <td>Berlinerstraße</td>\n",
       "      <td>12</td>\n",
       "      <td>Berlin</td>\n",
       "      <td>10115</td>\n",
       "      <td>Germany</td>\n",
       "    </tr>\n",
       "    <tr>\n",
       "      <th>1</th>\n",
       "      <td>2</td>\n",
       "      <td>Consulting_solutions</td>\n",
       "      <td>Elysees</td>\n",
       "      <td>11</td>\n",
       "      <td>Montord</td>\n",
       "      <td>33452</td>\n",
       "      <td>France</td>\n",
       "    </tr>\n",
       "    <tr>\n",
       "      <th>2</th>\n",
       "      <td>3</td>\n",
       "      <td>Consulting_regulations</td>\n",
       "      <td>Prugne</td>\n",
       "      <td>73</td>\n",
       "      <td>Cesset</td>\n",
       "      <td>24532</td>\n",
       "      <td>France</td>\n",
       "    </tr>\n",
       "  </tbody>\n",
       "</table>\n",
       "</div>"
      ],
      "text/plain": [
       "   Creditor_ID                    Firm          Street  HouseNr.     City  \\\n",
       "0            1           Workflow GmbH  Berlinerstraße        12   Berlin   \n",
       "1            2    Consulting_solutions         Elysees        11  Montord   \n",
       "2            3  Consulting_regulations          Prugne        73   Cesset   \n",
       "\n",
       "   Postcode  Country  \n",
       "0     10115  Germany  \n",
       "1     33452   France  \n",
       "2     24532   France  "
      ]
     },
     "metadata": {},
     "output_type": "display_data"
    },
    {
     "name": "stdout",
     "output_type": "stream",
     "text": [
      "The first 3 rows of the \"Bank Accounts\" data-frame are:\n"
     ]
    },
    {
     "data": {
      "text/html": [
       "<div>\n",
       "<style scoped>\n",
       "    .dataframe tbody tr th:only-of-type {\n",
       "        vertical-align: middle;\n",
       "    }\n",
       "\n",
       "    .dataframe tbody tr th {\n",
       "        vertical-align: top;\n",
       "    }\n",
       "\n",
       "    .dataframe thead th {\n",
       "        text-align: right;\n",
       "    }\n",
       "</style>\n",
       "<table border=\"1\" class=\"dataframe\">\n",
       "  <thead>\n",
       "    <tr style=\"text-align: right;\">\n",
       "      <th></th>\n",
       "      <th>Bank_ID</th>\n",
       "      <th>Creditor_ID</th>\n",
       "      <th>Bankname</th>\n",
       "      <th>CountryKey</th>\n",
       "      <th>VerifCode</th>\n",
       "      <th>BankKey</th>\n",
       "      <th>SectorCode</th>\n",
       "      <th>BankAccNr</th>\n",
       "      <th>CheckDigit</th>\n",
       "    </tr>\n",
       "  </thead>\n",
       "  <tbody>\n",
       "    <tr>\n",
       "      <th>0</th>\n",
       "      <td>1</td>\n",
       "      <td>1</td>\n",
       "      <td>Sparkasse</td>\n",
       "      <td>DE</td>\n",
       "      <td>44</td>\n",
       "      <td>85708525</td>\n",
       "      <td>-</td>\n",
       "      <td>9092573071</td>\n",
       "      <td>-</td>\n",
       "    </tr>\n",
       "    <tr>\n",
       "      <th>1</th>\n",
       "      <td>2</td>\n",
       "      <td>1</td>\n",
       "      <td>Sparkasse</td>\n",
       "      <td>DE</td>\n",
       "      <td>27</td>\n",
       "      <td>34010441</td>\n",
       "      <td>-</td>\n",
       "      <td>1517137596</td>\n",
       "      <td>-</td>\n",
       "    </tr>\n",
       "    <tr>\n",
       "      <th>2</th>\n",
       "      <td>3</td>\n",
       "      <td>2</td>\n",
       "      <td>BGFI</td>\n",
       "      <td>FR</td>\n",
       "      <td>29</td>\n",
       "      <td>53954085</td>\n",
       "      <td>12914</td>\n",
       "      <td>93097</td>\n",
       "      <td>31</td>\n",
       "    </tr>\n",
       "  </tbody>\n",
       "</table>\n",
       "</div>"
      ],
      "text/plain": [
       "   Bank_ID  Creditor_ID   Bankname CountryKey  VerifCode   BankKey SectorCode  \\\n",
       "0        1            1  Sparkasse         DE         44  85708525          -   \n",
       "1        2            1  Sparkasse         DE         27  34010441          -   \n",
       "2        3            2       BGFI         FR         29  53954085      12914   \n",
       "\n",
       "    BankAccNr CheckDigit  \n",
       "0  9092573071          -  \n",
       "1  1517137596          -  \n",
       "2       93097         31  "
      ]
     },
     "metadata": {},
     "output_type": "display_data"
    },
    {
     "name": "stdout",
     "output_type": "stream",
     "text": [
      "The first 3 rows of the \"Transactions\" data-frame are:\n"
     ]
    },
    {
     "data": {
      "text/html": [
       "<div>\n",
       "<style scoped>\n",
       "    .dataframe tbody tr th:only-of-type {\n",
       "        vertical-align: middle;\n",
       "    }\n",
       "\n",
       "    .dataframe tbody tr th {\n",
       "        vertical-align: top;\n",
       "    }\n",
       "\n",
       "    .dataframe thead th {\n",
       "        text-align: right;\n",
       "    }\n",
       "</style>\n",
       "<table border=\"1\" class=\"dataframe\">\n",
       "  <thead>\n",
       "    <tr style=\"text-align: right;\">\n",
       "      <th></th>\n",
       "      <th>Booking_ID</th>\n",
       "      <th>Debitor_ID</th>\n",
       "      <th>Creditor_ID</th>\n",
       "      <th>Product_ID</th>\n",
       "      <th>AccNr_Debit</th>\n",
       "      <th>AccNr_Credit</th>\n",
       "      <th>Value</th>\n",
       "      <th>Date</th>\n",
       "      <th>Time</th>\n",
       "      <th>PaymentTarget</th>\n",
       "      <th>Paid</th>\n",
       "      <th>Reminders</th>\n",
       "    </tr>\n",
       "  </thead>\n",
       "  <tbody>\n",
       "    <tr>\n",
       "      <th>0</th>\n",
       "      <td>1</td>\n",
       "      <td>3</td>\n",
       "      <td>-</td>\n",
       "      <td>8</td>\n",
       "      <td>1200</td>\n",
       "      <td>8000</td>\n",
       "      <td>33,40</td>\n",
       "      <td>01.01.2018</td>\n",
       "      <td>11:00</td>\n",
       "      <td>15.01.2018</td>\n",
       "      <td>no</td>\n",
       "      <td>1</td>\n",
       "    </tr>\n",
       "    <tr>\n",
       "      <th>1</th>\n",
       "      <td>2</td>\n",
       "      <td>5</td>\n",
       "      <td>-</td>\n",
       "      <td>4</td>\n",
       "      <td>1200</td>\n",
       "      <td>8000</td>\n",
       "      <td>122,00</td>\n",
       "      <td>01.01.2018</td>\n",
       "      <td>20:56</td>\n",
       "      <td>15.01.2018</td>\n",
       "      <td>yes</td>\n",
       "      <td>-</td>\n",
       "    </tr>\n",
       "    <tr>\n",
       "      <th>2</th>\n",
       "      <td>3</td>\n",
       "      <td>18</td>\n",
       "      <td>-</td>\n",
       "      <td>10</td>\n",
       "      <td>1200</td>\n",
       "      <td>8000</td>\n",
       "      <td>22,44</td>\n",
       "      <td>03.01.2018</td>\n",
       "      <td>17:31</td>\n",
       "      <td>17.01.2018</td>\n",
       "      <td>yes</td>\n",
       "      <td>-</td>\n",
       "    </tr>\n",
       "  </tbody>\n",
       "</table>\n",
       "</div>"
      ],
      "text/plain": [
       "   Booking_ID Debitor_ID Creditor_ID Product_ID  AccNr_Debit  AccNr_Credit  \\\n",
       "0           1          3           -          8         1200          8000   \n",
       "1           2          5           -          4         1200          8000   \n",
       "2           3         18           -         10         1200          8000   \n",
       "\n",
       "    Value        Date   Time PaymentTarget Paid Reminders  \n",
       "0   33,40  01.01.2018  11:00    15.01.2018   no         1  \n",
       "1  122,00  01.01.2018  20:56    15.01.2018  yes         -  \n",
       "2   22,44  03.01.2018  17:31    17.01.2018  yes         -  "
      ]
     },
     "metadata": {},
     "output_type": "display_data"
    }
   ],
   "source": [
    "# HEAD METHOD\n",
    "\n",
    "print(\"The first 3 rows of the \\\"Accounts Payable\\\" data-frame are:\")\n",
    "display(df_accounts_payable.head(3))\n",
    "\n",
    "print(\"The first 3 rows of the \\\"Accounts Receivable\\\" data-frame are:\")\n",
    "display(df_accounts_receivable.head(3))\n",
    "\n",
    "print(\"The first 3 rows of the \\\"Bank Accounts\\\" data-frame are:\")\n",
    "display(df_bank_accounts.head(3))\n",
    "\n",
    "print(\"The first 3 rows of the \\\"Transactions\\\" data-frame are:\")\n",
    "display(df_transactions.head(3))"
   ]
  },
  {
   "cell_type": "markdown",
   "metadata": {},
   "source": [
    "To gain a better understanding of the data, we will use the `describe()` method, which returns descriptive statistics that summarize statistics of numerical columns of the dataset.\n",
    "\n",
    "The `describe()` method provides information on:\n",
    "- the count of non-null values in each numerical column,\n",
    "- the mean of each numerical column,\n",
    "- the standard deviation of each numerical column,\n",
    "- the minimum values of each numerical column,\n",
    "- the 25th percentiles of each numerical column.\n",
    "- the 50th percentiles of each numerical column.\n",
    "- the 75th percentiles of each numerical column.\n",
    "- the maximum values of each numerical column.\n"
   ]
  },
  {
   "cell_type": "markdown",
   "metadata": {},
   "source": [
    "[Code section 6]"
   ]
  },
  {
   "cell_type": "code",
   "execution_count": 6,
   "metadata": {},
   "outputs": [
    {
     "name": "stdout",
     "output_type": "stream",
     "text": [
      "The main statistics of the \"Accounts Payable\" data-frame are:\n"
     ]
    },
    {
     "data": {
      "text/html": [
       "<div>\n",
       "<style scoped>\n",
       "    .dataframe tbody tr th:only-of-type {\n",
       "        vertical-align: middle;\n",
       "    }\n",
       "\n",
       "    .dataframe tbody tr th {\n",
       "        vertical-align: top;\n",
       "    }\n",
       "\n",
       "    .dataframe thead th {\n",
       "        text-align: right;\n",
       "    }\n",
       "</style>\n",
       "<table border=\"1\" class=\"dataframe\">\n",
       "  <thead>\n",
       "    <tr style=\"text-align: right;\">\n",
       "      <th></th>\n",
       "      <th>Creditor_ID</th>\n",
       "      <th>HouseNr.</th>\n",
       "      <th>Postcode</th>\n",
       "    </tr>\n",
       "  </thead>\n",
       "  <tbody>\n",
       "    <tr>\n",
       "      <th>count</th>\n",
       "      <td>21.000000</td>\n",
       "      <td>21.000000</td>\n",
       "      <td>21.000000</td>\n",
       "    </tr>\n",
       "    <tr>\n",
       "      <th>mean</th>\n",
       "      <td>11.000000</td>\n",
       "      <td>40.095238</td>\n",
       "      <td>53375.380952</td>\n",
       "    </tr>\n",
       "    <tr>\n",
       "      <th>std</th>\n",
       "      <td>6.204837</td>\n",
       "      <td>25.125495</td>\n",
       "      <td>29396.611579</td>\n",
       "    </tr>\n",
       "    <tr>\n",
       "      <th>min</th>\n",
       "      <td>1.000000</td>\n",
       "      <td>2.000000</td>\n",
       "      <td>10115.000000</td>\n",
       "    </tr>\n",
       "    <tr>\n",
       "      <th>25%</th>\n",
       "      <td>6.000000</td>\n",
       "      <td>14.000000</td>\n",
       "      <td>24532.000000</td>\n",
       "    </tr>\n",
       "    <tr>\n",
       "      <th>50%</th>\n",
       "      <td>11.000000</td>\n",
       "      <td>42.000000</td>\n",
       "      <td>54677.000000</td>\n",
       "    </tr>\n",
       "    <tr>\n",
       "      <th>75%</th>\n",
       "      <td>16.000000</td>\n",
       "      <td>59.000000</td>\n",
       "      <td>78654.000000</td>\n",
       "    </tr>\n",
       "    <tr>\n",
       "      <th>max</th>\n",
       "      <td>21.000000</td>\n",
       "      <td>83.000000</td>\n",
       "      <td>94469.000000</td>\n",
       "    </tr>\n",
       "  </tbody>\n",
       "</table>\n",
       "</div>"
      ],
      "text/plain": [
       "       Creditor_ID   HouseNr.      Postcode\n",
       "count    21.000000  21.000000     21.000000\n",
       "mean     11.000000  40.095238  53375.380952\n",
       "std       6.204837  25.125495  29396.611579\n",
       "min       1.000000   2.000000  10115.000000\n",
       "25%       6.000000  14.000000  24532.000000\n",
       "50%      11.000000  42.000000  54677.000000\n",
       "75%      16.000000  59.000000  78654.000000\n",
       "max      21.000000  83.000000  94469.000000"
      ]
     },
     "metadata": {},
     "output_type": "display_data"
    },
    {
     "name": "stdout",
     "output_type": "stream",
     "text": [
      "The main statistics of the \"Accounts Receivable\" data-frame are:\n"
     ]
    },
    {
     "data": {
      "text/html": [
       "<div>\n",
       "<style scoped>\n",
       "    .dataframe tbody tr th:only-of-type {\n",
       "        vertical-align: middle;\n",
       "    }\n",
       "\n",
       "    .dataframe tbody tr th {\n",
       "        vertical-align: top;\n",
       "    }\n",
       "\n",
       "    .dataframe thead th {\n",
       "        text-align: right;\n",
       "    }\n",
       "</style>\n",
       "<table border=\"1\" class=\"dataframe\">\n",
       "  <thead>\n",
       "    <tr style=\"text-align: right;\">\n",
       "      <th></th>\n",
       "      <th>Creditor_ID</th>\n",
       "      <th>HouseNr.</th>\n",
       "      <th>Postcode</th>\n",
       "    </tr>\n",
       "  </thead>\n",
       "  <tbody>\n",
       "    <tr>\n",
       "      <th>count</th>\n",
       "      <td>21.000000</td>\n",
       "      <td>21.000000</td>\n",
       "      <td>21.000000</td>\n",
       "    </tr>\n",
       "    <tr>\n",
       "      <th>mean</th>\n",
       "      <td>11.000000</td>\n",
       "      <td>40.095238</td>\n",
       "      <td>53375.380952</td>\n",
       "    </tr>\n",
       "    <tr>\n",
       "      <th>std</th>\n",
       "      <td>6.204837</td>\n",
       "      <td>25.125495</td>\n",
       "      <td>29396.611579</td>\n",
       "    </tr>\n",
       "    <tr>\n",
       "      <th>min</th>\n",
       "      <td>1.000000</td>\n",
       "      <td>2.000000</td>\n",
       "      <td>10115.000000</td>\n",
       "    </tr>\n",
       "    <tr>\n",
       "      <th>25%</th>\n",
       "      <td>6.000000</td>\n",
       "      <td>14.000000</td>\n",
       "      <td>24532.000000</td>\n",
       "    </tr>\n",
       "    <tr>\n",
       "      <th>50%</th>\n",
       "      <td>11.000000</td>\n",
       "      <td>42.000000</td>\n",
       "      <td>54677.000000</td>\n",
       "    </tr>\n",
       "    <tr>\n",
       "      <th>75%</th>\n",
       "      <td>16.000000</td>\n",
       "      <td>59.000000</td>\n",
       "      <td>78654.000000</td>\n",
       "    </tr>\n",
       "    <tr>\n",
       "      <th>max</th>\n",
       "      <td>21.000000</td>\n",
       "      <td>83.000000</td>\n",
       "      <td>94469.000000</td>\n",
       "    </tr>\n",
       "  </tbody>\n",
       "</table>\n",
       "</div>"
      ],
      "text/plain": [
       "       Creditor_ID   HouseNr.      Postcode\n",
       "count    21.000000  21.000000     21.000000\n",
       "mean     11.000000  40.095238  53375.380952\n",
       "std       6.204837  25.125495  29396.611579\n",
       "min       1.000000   2.000000  10115.000000\n",
       "25%       6.000000  14.000000  24532.000000\n",
       "50%      11.000000  42.000000  54677.000000\n",
       "75%      16.000000  59.000000  78654.000000\n",
       "max      21.000000  83.000000  94469.000000"
      ]
     },
     "metadata": {},
     "output_type": "display_data"
    },
    {
     "name": "stdout",
     "output_type": "stream",
     "text": [
      "The main statistics of the \"Bank Accounts\" data-frame are:\n"
     ]
    },
    {
     "data": {
      "text/html": [
       "<div>\n",
       "<style scoped>\n",
       "    .dataframe tbody tr th:only-of-type {\n",
       "        vertical-align: middle;\n",
       "    }\n",
       "\n",
       "    .dataframe tbody tr th {\n",
       "        vertical-align: top;\n",
       "    }\n",
       "\n",
       "    .dataframe thead th {\n",
       "        text-align: right;\n",
       "    }\n",
       "</style>\n",
       "<table border=\"1\" class=\"dataframe\">\n",
       "  <thead>\n",
       "    <tr style=\"text-align: right;\">\n",
       "      <th></th>\n",
       "      <th>Bank_ID</th>\n",
       "      <th>Creditor_ID</th>\n",
       "      <th>VerifCode</th>\n",
       "      <th>BankKey</th>\n",
       "      <th>BankAccNr</th>\n",
       "    </tr>\n",
       "  </thead>\n",
       "  <tbody>\n",
       "    <tr>\n",
       "      <th>count</th>\n",
       "      <td>31.000000</td>\n",
       "      <td>31.000000</td>\n",
       "      <td>31.000000</td>\n",
       "      <td>3.100000e+01</td>\n",
       "      <td>3.100000e+01</td>\n",
       "    </tr>\n",
       "    <tr>\n",
       "      <th>mean</th>\n",
       "      <td>16.000000</td>\n",
       "      <td>10.387097</td>\n",
       "      <td>61.838710</td>\n",
       "      <td>5.597389e+07</td>\n",
       "      <td>2.186200e+09</td>\n",
       "    </tr>\n",
       "    <tr>\n",
       "      <th>std</th>\n",
       "      <td>9.092121</td>\n",
       "      <td>6.195038</td>\n",
       "      <td>27.427598</td>\n",
       "      <td>2.377010e+07</td>\n",
       "      <td>3.363191e+09</td>\n",
       "    </tr>\n",
       "    <tr>\n",
       "      <th>min</th>\n",
       "      <td>1.000000</td>\n",
       "      <td>1.000000</td>\n",
       "      <td>13.000000</td>\n",
       "      <td>1.330508e+07</td>\n",
       "      <td>1.944100e+04</td>\n",
       "    </tr>\n",
       "    <tr>\n",
       "      <th>25%</th>\n",
       "      <td>8.500000</td>\n",
       "      <td>5.500000</td>\n",
       "      <td>33.500000</td>\n",
       "      <td>3.781969e+07</td>\n",
       "      <td>5.980650e+04</td>\n",
       "    </tr>\n",
       "    <tr>\n",
       "      <th>50%</th>\n",
       "      <td>16.000000</td>\n",
       "      <td>10.000000</td>\n",
       "      <td>63.000000</td>\n",
       "      <td>5.703530e+07</td>\n",
       "      <td>9.190400e+04</td>\n",
       "    </tr>\n",
       "    <tr>\n",
       "      <th>75%</th>\n",
       "      <td>23.500000</td>\n",
       "      <td>15.500000</td>\n",
       "      <td>90.000000</td>\n",
       "      <td>7.964018e+07</td>\n",
       "      <td>4.076312e+09</td>\n",
       "    </tr>\n",
       "    <tr>\n",
       "      <th>max</th>\n",
       "      <td>31.000000</td>\n",
       "      <td>21.000000</td>\n",
       "      <td>99.000000</td>\n",
       "      <td>9.948417e+07</td>\n",
       "      <td>9.092573e+09</td>\n",
       "    </tr>\n",
       "  </tbody>\n",
       "</table>\n",
       "</div>"
      ],
      "text/plain": [
       "         Bank_ID  Creditor_ID  VerifCode       BankKey     BankAccNr\n",
       "count  31.000000    31.000000  31.000000  3.100000e+01  3.100000e+01\n",
       "mean   16.000000    10.387097  61.838710  5.597389e+07  2.186200e+09\n",
       "std     9.092121     6.195038  27.427598  2.377010e+07  3.363191e+09\n",
       "min     1.000000     1.000000  13.000000  1.330508e+07  1.944100e+04\n",
       "25%     8.500000     5.500000  33.500000  3.781969e+07  5.980650e+04\n",
       "50%    16.000000    10.000000  63.000000  5.703530e+07  9.190400e+04\n",
       "75%    23.500000    15.500000  90.000000  7.964018e+07  4.076312e+09\n",
       "max    31.000000    21.000000  99.000000  9.948417e+07  9.092573e+09"
      ]
     },
     "metadata": {},
     "output_type": "display_data"
    },
    {
     "name": "stdout",
     "output_type": "stream",
     "text": [
      "The main statistics of the \"Transactions\" data-frame are:\n"
     ]
    },
    {
     "data": {
      "text/html": [
       "<div>\n",
       "<style scoped>\n",
       "    .dataframe tbody tr th:only-of-type {\n",
       "        vertical-align: middle;\n",
       "    }\n",
       "\n",
       "    .dataframe tbody tr th {\n",
       "        vertical-align: top;\n",
       "    }\n",
       "\n",
       "    .dataframe thead th {\n",
       "        text-align: right;\n",
       "    }\n",
       "</style>\n",
       "<table border=\"1\" class=\"dataframe\">\n",
       "  <thead>\n",
       "    <tr style=\"text-align: right;\">\n",
       "      <th></th>\n",
       "      <th>Booking_ID</th>\n",
       "      <th>AccNr_Debit</th>\n",
       "      <th>AccNr_Credit</th>\n",
       "    </tr>\n",
       "  </thead>\n",
       "  <tbody>\n",
       "    <tr>\n",
       "      <th>count</th>\n",
       "      <td>107.000000</td>\n",
       "      <td>107.000000</td>\n",
       "      <td>107.000000</td>\n",
       "    </tr>\n",
       "    <tr>\n",
       "      <th>mean</th>\n",
       "      <td>54.000000</td>\n",
       "      <td>2039.252336</td>\n",
       "      <td>5514.018692</td>\n",
       "    </tr>\n",
       "    <tr>\n",
       "      <th>std</th>\n",
       "      <td>31.032241</td>\n",
       "      <td>1215.525122</td>\n",
       "      <td>3171.704161</td>\n",
       "    </tr>\n",
       "    <tr>\n",
       "      <th>min</th>\n",
       "      <td>1.000000</td>\n",
       "      <td>1000.000000</td>\n",
       "      <td>1000.000000</td>\n",
       "    </tr>\n",
       "    <tr>\n",
       "      <th>25%</th>\n",
       "      <td>27.500000</td>\n",
       "      <td>1200.000000</td>\n",
       "      <td>1600.000000</td>\n",
       "    </tr>\n",
       "    <tr>\n",
       "      <th>50%</th>\n",
       "      <td>54.000000</td>\n",
       "      <td>1200.000000</td>\n",
       "      <td>8000.000000</td>\n",
       "    </tr>\n",
       "    <tr>\n",
       "      <th>75%</th>\n",
       "      <td>80.500000</td>\n",
       "      <td>3200.000000</td>\n",
       "      <td>8000.000000</td>\n",
       "    </tr>\n",
       "    <tr>\n",
       "      <th>max</th>\n",
       "      <td>107.000000</td>\n",
       "      <td>5100.000000</td>\n",
       "      <td>8000.000000</td>\n",
       "    </tr>\n",
       "  </tbody>\n",
       "</table>\n",
       "</div>"
      ],
      "text/plain": [
       "       Booking_ID  AccNr_Debit  AccNr_Credit\n",
       "count  107.000000   107.000000    107.000000\n",
       "mean    54.000000  2039.252336   5514.018692\n",
       "std     31.032241  1215.525122   3171.704161\n",
       "min      1.000000  1000.000000   1000.000000\n",
       "25%     27.500000  1200.000000   1600.000000\n",
       "50%     54.000000  1200.000000   8000.000000\n",
       "75%     80.500000  3200.000000   8000.000000\n",
       "max    107.000000  5100.000000   8000.000000"
      ]
     },
     "metadata": {},
     "output_type": "display_data"
    }
   ],
   "source": [
    "# DESCRIBE METHOD\n",
    "\n",
    "print(\"The main statistics of the \\\"Accounts Payable\\\" data-frame are:\")\n",
    "display(df_accounts_payable.describe())\n",
    "\n",
    "print(\"The main statistics of the \\\"Accounts Receivable\\\" data-frame are:\")\n",
    "display(df_accounts_receivable.describe())\n",
    "\n",
    "print(\"The main statistics of the \\\"Bank Accounts\\\" data-frame are:\")\n",
    "display(df_bank_accounts.describe())\n",
    "\n",
    "print(\"The main statistics of the \\\"Transactions\\\" data-frame are:\")\n",
    "display(df_transactions.describe())"
   ]
  },
  {
   "cell_type": "markdown",
   "metadata": {},
   "source": [
    "We proceed by providing a summary of the DataFrames using the `info()` method, which returns information about the DataFrame, including the data type of each column, the number of non-null values in each column, and the memory usage of the DataFrame."
   ]
  },
  {
   "cell_type": "markdown",
   "metadata": {},
   "source": [
    "[Code section 7]"
   ]
  },
  {
   "cell_type": "code",
   "execution_count": 7,
   "metadata": {},
   "outputs": [
    {
     "name": "stdout",
     "output_type": "stream",
     "text": [
      "The information of the \"Accounts Payable\" data-frame is:\n",
      "<class 'pandas.core.frame.DataFrame'>\n",
      "RangeIndex: 21 entries, 0 to 20\n",
      "Data columns (total 7 columns):\n",
      " #   Column       Non-Null Count  Dtype \n",
      "---  ------       --------------  ----- \n",
      " 0   Creditor_ID  21 non-null     int64 \n",
      " 1   Firm         21 non-null     object\n",
      " 2   Street       21 non-null     object\n",
      " 3   HouseNr.     21 non-null     int64 \n",
      " 4   City         21 non-null     object\n",
      " 5   Postcode     21 non-null     int64 \n",
      " 6   Country      21 non-null     object\n",
      "dtypes: int64(3), object(4)\n",
      "memory usage: 1.3+ KB\n"
     ]
    },
    {
     "data": {
      "text/plain": [
       "None"
      ]
     },
     "metadata": {},
     "output_type": "display_data"
    },
    {
     "name": "stdout",
     "output_type": "stream",
     "text": [
      "The information of the \"Accounts Receivable\" data-frame is:\n",
      "<class 'pandas.core.frame.DataFrame'>\n",
      "RangeIndex: 21 entries, 0 to 20\n",
      "Data columns (total 7 columns):\n",
      " #   Column       Non-Null Count  Dtype \n",
      "---  ------       --------------  ----- \n",
      " 0   Creditor_ID  21 non-null     int64 \n",
      " 1   Firm         21 non-null     object\n",
      " 2   Street       21 non-null     object\n",
      " 3   HouseNr.     21 non-null     int64 \n",
      " 4   City         21 non-null     object\n",
      " 5   Postcode     21 non-null     int64 \n",
      " 6   Country      21 non-null     object\n",
      "dtypes: int64(3), object(4)\n",
      "memory usage: 1.3+ KB\n"
     ]
    },
    {
     "data": {
      "text/plain": [
       "None"
      ]
     },
     "metadata": {},
     "output_type": "display_data"
    },
    {
     "name": "stdout",
     "output_type": "stream",
     "text": [
      "The information of the \"Bank Accounts\" data-frame is:\n",
      "<class 'pandas.core.frame.DataFrame'>\n",
      "RangeIndex: 31 entries, 0 to 30\n",
      "Data columns (total 9 columns):\n",
      " #   Column       Non-Null Count  Dtype \n",
      "---  ------       --------------  ----- \n",
      " 0   Bank_ID      31 non-null     int64 \n",
      " 1   Creditor_ID  31 non-null     int64 \n",
      " 2   Bankname     31 non-null     object\n",
      " 3   CountryKey   31 non-null     object\n",
      " 4   VerifCode    31 non-null     int64 \n",
      " 5   BankKey      31 non-null     int64 \n",
      " 6   SectorCode   31 non-null     object\n",
      " 7   BankAccNr    31 non-null     int64 \n",
      " 8   CheckDigit   31 non-null     object\n",
      "dtypes: int64(5), object(4)\n",
      "memory usage: 2.3+ KB\n"
     ]
    },
    {
     "data": {
      "text/plain": [
       "None"
      ]
     },
     "metadata": {},
     "output_type": "display_data"
    },
    {
     "name": "stdout",
     "output_type": "stream",
     "text": [
      "The information of the \"Transactions\" data-frame is:\n",
      "<class 'pandas.core.frame.DataFrame'>\n",
      "RangeIndex: 107 entries, 0 to 106\n",
      "Data columns (total 12 columns):\n",
      " #   Column         Non-Null Count  Dtype \n",
      "---  ------         --------------  ----- \n",
      " 0   Booking_ID     107 non-null    int64 \n",
      " 1   Debitor_ID     107 non-null    object\n",
      " 2   Creditor_ID    107 non-null    object\n",
      " 3   Product_ID     107 non-null    object\n",
      " 4   AccNr_Debit    107 non-null    int64 \n",
      " 5   AccNr_Credit   107 non-null    int64 \n",
      " 6   Value          107 non-null    object\n",
      " 7   Date           107 non-null    object\n",
      " 8   Time           107 non-null    object\n",
      " 9   PaymentTarget  107 non-null    object\n",
      " 10  Paid           107 non-null    object\n",
      " 11  Reminders      107 non-null    object\n",
      "dtypes: int64(3), object(9)\n",
      "memory usage: 10.2+ KB\n"
     ]
    },
    {
     "data": {
      "text/plain": [
       "None"
      ]
     },
     "metadata": {},
     "output_type": "display_data"
    }
   ],
   "source": [
    "# INFO METHOD\n",
    "\n",
    "print(\"The information of the \\\"Accounts Payable\\\" data-frame is:\")\n",
    "display(df_accounts_payable.info())\n",
    "\n",
    "print(\"The information of the \\\"Accounts Receivable\\\" data-frame is:\")\n",
    "display(df_accounts_receivable.info())\n",
    "\n",
    "print(\"The information of the \\\"Bank Accounts\\\" data-frame is:\")\n",
    "display(df_bank_accounts.info())\n",
    "\n",
    "print(\"The information of the \\\"Transactions\\\" data-frame is:\")\n",
    "display(df_transactions.info())"
   ]
  },
  {
   "cell_type": "markdown",
   "metadata": {},
   "source": [
    "We proceed by displaying the columns of the DataFrames using the `columns` attribute which returns the column labels of the DataFrame."
   ]
  },
  {
   "cell_type": "markdown",
   "metadata": {},
   "source": [
    "[Code section 8]"
   ]
  },
  {
   "cell_type": "code",
   "execution_count": 8,
   "metadata": {},
   "outputs": [
    {
     "name": "stdout",
     "output_type": "stream",
     "text": [
      "The columns of the \"Accounts Payable\" data-frame are:\n"
     ]
    },
    {
     "data": {
      "text/plain": [
       "Index(['Creditor_ID', 'Firm', 'Street', 'HouseNr.', 'City', 'Postcode',\n",
       "       'Country'],\n",
       "      dtype='object')"
      ]
     },
     "metadata": {},
     "output_type": "display_data"
    },
    {
     "name": "stdout",
     "output_type": "stream",
     "text": [
      "The columns of the \"Accounts Receivable\" data-frame are:\n"
     ]
    },
    {
     "data": {
      "text/plain": [
       "Index(['Creditor_ID', 'Firm', 'Street', 'HouseNr.', 'City', 'Postcode',\n",
       "       'Country'],\n",
       "      dtype='object')"
      ]
     },
     "metadata": {},
     "output_type": "display_data"
    },
    {
     "name": "stdout",
     "output_type": "stream",
     "text": [
      "The columns of the \"Bank Accounts\" data-frame are:\n"
     ]
    },
    {
     "data": {
      "text/plain": [
       "Index(['Bank_ID', 'Creditor_ID', 'Bankname', 'CountryKey', 'VerifCode',\n",
       "       'BankKey', 'SectorCode', 'BankAccNr', 'CheckDigit'],\n",
       "      dtype='object')"
      ]
     },
     "metadata": {},
     "output_type": "display_data"
    },
    {
     "name": "stdout",
     "output_type": "stream",
     "text": [
      "The columns of the \"Transactions\" data-frame are:\n"
     ]
    },
    {
     "data": {
      "text/plain": [
       "Index(['Booking_ID', 'Debitor_ID', 'Creditor_ID', 'Product_ID', 'AccNr_Debit',\n",
       "       'AccNr_Credit', 'Value', 'Date', 'Time', 'PaymentTarget', 'Paid',\n",
       "       'Reminders'],\n",
       "      dtype='object')"
      ]
     },
     "metadata": {},
     "output_type": "display_data"
    }
   ],
   "source": [
    "# COLUMNS ATTRIBUTE\n",
    "\n",
    "print(\"The columns of the \\\"Accounts Payable\\\" data-frame are:\")\n",
    "display(df_accounts_payable.columns)\n",
    "\n",
    "print(\"The columns of the \\\"Accounts Receivable\\\" data-frame are:\")\n",
    "display(df_accounts_receivable.columns)\n",
    "\n",
    "print(\"The columns of the \\\"Bank Accounts\\\" data-frame are:\")\n",
    "display(df_bank_accounts.columns)\n",
    "\n",
    "print(\"The columns of the \\\"Transactions\\\" data-frame are:\")\n",
    "display(df_transactions.columns)"
   ]
  },
  {
   "cell_type": "markdown",
   "metadata": {},
   "source": [
    "The `values` attribute returns a Numpy representation of the DataFrame, which is a two-dimensional array of the data in the DataFrame. We will display the values of one of the DataFrames using the `values` attribute."
   ]
  },
  {
   "cell_type": "markdown",
   "metadata": {},
   "source": [
    "[Code section 9]"
   ]
  },
  {
   "cell_type": "code",
   "execution_count": 9,
   "metadata": {},
   "outputs": [
    {
     "name": "stdout",
     "output_type": "stream",
     "text": [
      "The values of the \"Accounts Payable\" data-frame are:\n"
     ]
    },
    {
     "data": {
      "text/plain": [
       "array([[1, 'Workflow GmbH', 'Berlinerstraße', 12, 'Berlin', 10115,\n",
       "        'Germany'],\n",
       "       [2, 'Consulting_solutions', 'Elysees', 11, 'Montord', 33452,\n",
       "        'France'],\n",
       "       [3, 'Consulting_regulations', 'Prugne', 73, 'Cesset', 24532,\n",
       "        'France'],\n",
       "       [4, 'IT_Solutions', 'Maximilianstraße', 11, 'Munich', 80331,\n",
       "        'Germany'],\n",
       "       [5, 'Governance GmbH', 'Frankstraße', 75, 'Munich', 80332,\n",
       "        'Germany'],\n",
       "       [6, 'Business_Partnership', 'Rue de Grivats', 60, 'Lyon', 53522,\n",
       "        'France'],\n",
       "       [7, 'Clera', 'Chemin ', 59, 'Paris', 75000, 'France'],\n",
       "       [8, 'Carbon', 'Hornerstraße', 52, 'Hamburg', 20090, 'Germany'],\n",
       "       [9, \"Bon app'\", 'Gouzol', 2, 'Beauron', 67976, 'France'],\n",
       "       [10, 'Bottom-Dollar Marketse', 'Robin', 51, 'Lyon', 53454,\n",
       "        'France'],\n",
       "       [11, 'Kraft GmbH', 'Theodorstraße', 70, 'Deggendorf', 94469,\n",
       "        'Germany'],\n",
       "       [12, 'EDF', \"de L'Est\", 14, 'Marseille', 78654, 'France'],\n",
       "       [13, 'Centro comercial', 'Curie', 17, 'Saint Bonnet', 54766,\n",
       "        'France'],\n",
       "       [14, 'IFS international', 'Chauvais', 39, 'Bezenet', 89459,\n",
       "        'France'],\n",
       "       [15, 'Commercial Partners', 'Berlinerstraße', 83, 'Berlin', 10342,\n",
       "        'Germany'],\n",
       "       [16, 'ABBS', 'de Halage', 24, 'Lyon', 53868, 'France'],\n",
       "       [17, 'Enterprise ', 'Alier', 50, 'Paris', 75086, 'France'],\n",
       "       [18, 'Lovala GmbH', 'Zugstraße', 42, 'Berlin', 10990, 'Germany'],\n",
       "       [19, 'Eastern Connection', 'Brules', 31, 'Maginer', 54677,\n",
       "        'France'],\n",
       "       [20, 'Ernst Trade', 'Ferrieres', 54, 'Puits Neuf', 89653,\n",
       "        'France'],\n",
       "       [21, 'Work-flow_GmbH', 'Berlinerstraße', 12, 'Berlin', 10115,\n",
       "        'Germany']], dtype=object)"
      ]
     },
     "metadata": {},
     "output_type": "display_data"
    }
   ],
   "source": [
    "# VALUES ATTRIBUTE\n",
    "\n",
    "print(\"The values of the \\\"Accounts Payable\\\" data-frame are:\")\n",
    "display(df_accounts_payable.values)"
   ]
  },
  {
   "cell_type": "markdown",
   "metadata": {},
   "source": [
    "--------------"
   ]
  },
  {
   "cell_type": "markdown",
   "metadata": {},
   "source": [
    "## 4. Data Preparation <a id=\"Data_Preparation\"></a>"
   ]
  },
  {
   "cell_type": "markdown",
   "metadata": {},
   "source": [
    "### 4.1 Conversion of data types <a id=\"Conversion_of_Data_Types\"></a>\n",
    "\n",
    "After the data import, a variable is not always automatically assigned to the appropriate object class, which can become a problem, especially when functions require a certain object class."
   ]
  },
  {
   "cell_type": "markdown",
   "metadata": {},
   "source": [
    "[Code section 10]"
   ]
  },
  {
   "cell_type": "code",
   "execution_count": 10,
   "metadata": {},
   "outputs": [],
   "source": [
    "# CONVERTING DATA TYPES\n",
    "\n",
    "df_transactions['Value'] = df_transactions['Value'].str.replace(',', '.').astype(float)"
   ]
  },
  {
   "cell_type": "markdown",
   "metadata": {},
   "source": [
    "As it will be needed in the following steps, we will convert the 'Date' column of the data frame into the day of the week using the `day_name()` function and added it as a new column to the Transactions data-frame."
   ]
  },
  {
   "cell_type": "markdown",
   "metadata": {},
   "source": [
    "[Code section 11]"
   ]
  },
  {
   "cell_type": "code",
   "execution_count": 11,
   "metadata": {},
   "outputs": [
    {
     "data": {
      "text/plain": [
       "0         Monday\n",
       "1         Monday\n",
       "2      Wednesday\n",
       "3       Thursday\n",
       "4       Thursday\n",
       "         ...    \n",
       "102    Wednesday\n",
       "103     Thursday\n",
       "104       Friday\n",
       "105     Saturday\n",
       "106       Sunday\n",
       "Name: DayOfTheWeek, Length: 107, dtype: object"
      ]
     },
     "execution_count": 11,
     "metadata": {},
     "output_type": "execute_result"
    }
   ],
   "source": [
    "# CONVERTING DATA TYPES\n",
    "\n",
    "df_transactions['Date'].dtypes\n",
    "df_transactions['Date'] = pd.to_datetime(df_transactions['Date'], format = '%d.%m.%Y')\n",
    "df_transactions['DayOfTheWeek'] = df_transactions['Date'].dt.day_name()\n",
    "df_transactions['DayOfTheWeek']"
   ]
  },
  {
   "cell_type": "markdown",
   "metadata": {},
   "source": [
    "The Reminders column shows that the first category is \"-\". In the following line of code, all \"-\" elements are substituted with \"0\" and the command .astype(str) first converts the variable to a string variable, then to an integer using .astype(int)."
   ]
  },
  {
   "cell_type": "markdown",
   "metadata": {},
   "source": [
    "[Code section 12]"
   ]
  },
  {
   "cell_type": "code",
   "execution_count": 12,
   "metadata": {},
   "outputs": [],
   "source": [
    "# CONVERTING DATA TYPES\n",
    "\n",
    "df_transactions['Reminders'] = df_transactions['Reminders'].replace('-', '0')\n",
    "df_transactions['Reminders'] = df_transactions['Reminders'].astype(str).astype(int)"
   ]
  },
  {
   "cell_type": "markdown",
   "metadata": {},
   "source": [
    "### 4.2 Data Filtering <a id=\"Data_Filtering\"></a>"
   ]
  },
  {
   "cell_type": "markdown",
   "metadata": {},
   "source": [
    "We proceed by creating a new data-frame with the columns `AccNr_Debit` and `AccNr_Credit` equal to $1000$, in order to filter the transactions from the ones that not part of the cash account."
   ]
  },
  {
   "cell_type": "markdown",
   "metadata": {},
   "source": [
    "[Code section 13]"
   ]
  },
  {
   "cell_type": "code",
   "execution_count": 13,
   "metadata": {},
   "outputs": [
    {
     "data": {
      "text/plain": [
       "0      False\n",
       "1      False\n",
       "2      False\n",
       "3       True\n",
       "4      False\n",
       "       ...  \n",
       "102    False\n",
       "103    False\n",
       "104     True\n",
       "105    False\n",
       "106    False\n",
       "Name: AccNr_Debit, Length: 107, dtype: bool"
      ]
     },
     "metadata": {},
     "output_type": "display_data"
    },
    {
     "data": {
      "text/html": [
       "<div>\n",
       "<style scoped>\n",
       "    .dataframe tbody tr th:only-of-type {\n",
       "        vertical-align: middle;\n",
       "    }\n",
       "\n",
       "    .dataframe tbody tr th {\n",
       "        vertical-align: top;\n",
       "    }\n",
       "\n",
       "    .dataframe thead th {\n",
       "        text-align: right;\n",
       "    }\n",
       "</style>\n",
       "<table border=\"1\" class=\"dataframe\">\n",
       "  <thead>\n",
       "    <tr style=\"text-align: right;\">\n",
       "      <th></th>\n",
       "      <th>Booking_ID</th>\n",
       "      <th>Debitor_ID</th>\n",
       "      <th>Creditor_ID</th>\n",
       "      <th>Product_ID</th>\n",
       "      <th>AccNr_Debit</th>\n",
       "      <th>AccNr_Credit</th>\n",
       "      <th>Value</th>\n",
       "      <th>Date</th>\n",
       "      <th>Time</th>\n",
       "      <th>PaymentTarget</th>\n",
       "      <th>Paid</th>\n",
       "      <th>Reminders</th>\n",
       "      <th>DayOfTheWeek</th>\n",
       "    </tr>\n",
       "  </thead>\n",
       "  <tbody>\n",
       "    <tr>\n",
       "      <th>3</th>\n",
       "      <td>4</td>\n",
       "      <td>9</td>\n",
       "      <td>-</td>\n",
       "      <td>5</td>\n",
       "      <td>1000</td>\n",
       "      <td>8000</td>\n",
       "      <td>182.40</td>\n",
       "      <td>2018-01-04</td>\n",
       "      <td>00:26</td>\n",
       "      <td>-</td>\n",
       "      <td>yes</td>\n",
       "      <td>0</td>\n",
       "      <td>Thursday</td>\n",
       "    </tr>\n",
       "    <tr>\n",
       "      <th>5</th>\n",
       "      <td>6</td>\n",
       "      <td>-</td>\n",
       "      <td>11</td>\n",
       "      <td>-</td>\n",
       "      <td>5100</td>\n",
       "      <td>1000</td>\n",
       "      <td>193.33</td>\n",
       "      <td>2018-01-05</td>\n",
       "      <td>13:14</td>\n",
       "      <td>-</td>\n",
       "      <td>yes</td>\n",
       "      <td>0</td>\n",
       "      <td>Friday</td>\n",
       "    </tr>\n",
       "    <tr>\n",
       "      <th>6</th>\n",
       "      <td>7</td>\n",
       "      <td>13</td>\n",
       "      <td>-</td>\n",
       "      <td>5</td>\n",
       "      <td>1000</td>\n",
       "      <td>8000</td>\n",
       "      <td>364.80</td>\n",
       "      <td>2018-01-06</td>\n",
       "      <td>10:57</td>\n",
       "      <td>-</td>\n",
       "      <td>yes</td>\n",
       "      <td>0</td>\n",
       "      <td>Saturday</td>\n",
       "    </tr>\n",
       "    <tr>\n",
       "      <th>9</th>\n",
       "      <td>10</td>\n",
       "      <td>-</td>\n",
       "      <td>11</td>\n",
       "      <td>-</td>\n",
       "      <td>5100</td>\n",
       "      <td>1000</td>\n",
       "      <td>245.56</td>\n",
       "      <td>2018-01-07</td>\n",
       "      <td>15:21</td>\n",
       "      <td>-</td>\n",
       "      <td>yes</td>\n",
       "      <td>0</td>\n",
       "      <td>Sunday</td>\n",
       "    </tr>\n",
       "    <tr>\n",
       "      <th>13</th>\n",
       "      <td>14</td>\n",
       "      <td>18</td>\n",
       "      <td>-</td>\n",
       "      <td>1</td>\n",
       "      <td>1000</td>\n",
       "      <td>8000</td>\n",
       "      <td>1123.12</td>\n",
       "      <td>2018-01-09</td>\n",
       "      <td>22:23</td>\n",
       "      <td>-</td>\n",
       "      <td>yes</td>\n",
       "      <td>0</td>\n",
       "      <td>Tuesday</td>\n",
       "    </tr>\n",
       "  </tbody>\n",
       "</table>\n",
       "</div>"
      ],
      "text/plain": [
       "    Booking_ID Debitor_ID Creditor_ID Product_ID  AccNr_Debit  AccNr_Credit  \\\n",
       "3            4          9           -          5         1000          8000   \n",
       "5            6          -          11          -         5100          1000   \n",
       "6            7         13           -          5         1000          8000   \n",
       "9           10          -          11          -         5100          1000   \n",
       "13          14         18           -          1         1000          8000   \n",
       "\n",
       "      Value       Date   Time PaymentTarget Paid  Reminders DayOfTheWeek  \n",
       "3    182.40 2018-01-04  00:26             -  yes          0     Thursday  \n",
       "5    193.33 2018-01-05  13:14             -  yes          0       Friday  \n",
       "6    364.80 2018-01-06  10:57             -  yes          0     Saturday  \n",
       "9    245.56 2018-01-07  15:21             -  yes          0       Sunday  \n",
       "13  1123.12 2018-01-09  22:23             -  yes          0      Tuesday  "
      ]
     },
     "metadata": {},
     "output_type": "display_data"
    }
   ],
   "source": [
    "# FILTERING DATA\n",
    "\n",
    "display(df_transactions.AccNr_Debit == 1000)\n",
    "df_cash_book = df_transactions[(df_transactions.AccNr_Debit == 1000) | (df_transactions.AccNr_Credit == 1000)]\n",
    "\n",
    "display(df_cash_book.head())"
   ]
  },
  {
   "cell_type": "markdown",
   "metadata": {},
   "source": [
    "We proceed by merging the `df_accounts_payable` and `df_bank_accounts` data-frames on the `Creditor_ID` column."
   ]
  },
  {
   "cell_type": "markdown",
   "metadata": {},
   "source": [
    "[Code section 14]"
   ]
  },
  {
   "cell_type": "code",
   "execution_count": 14,
   "metadata": {},
   "outputs": [
    {
     "name": "stdout",
     "output_type": "stream",
     "text": [
      "Index(['Creditor_ID', 'Firm', 'Street', 'HouseNr.', 'City', 'Postcode',\n",
      "       'Country'],\n",
      "      dtype='object')\n",
      "Index(['Bank_ID', 'Creditor_ID', 'Bankname', 'CountryKey', 'VerifCode',\n",
      "       'BankKey', 'SectorCode', 'BankAccNr', 'CheckDigit'],\n",
      "      dtype='object')\n"
     ]
    },
    {
     "data": {
      "text/html": [
       "<div>\n",
       "<style scoped>\n",
       "    .dataframe tbody tr th:only-of-type {\n",
       "        vertical-align: middle;\n",
       "    }\n",
       "\n",
       "    .dataframe tbody tr th {\n",
       "        vertical-align: top;\n",
       "    }\n",
       "\n",
       "    .dataframe thead th {\n",
       "        text-align: right;\n",
       "    }\n",
       "</style>\n",
       "<table border=\"1\" class=\"dataframe\">\n",
       "  <thead>\n",
       "    <tr style=\"text-align: right;\">\n",
       "      <th></th>\n",
       "      <th>Bank_ID</th>\n",
       "      <th>Creditor_ID</th>\n",
       "      <th>Bankname</th>\n",
       "      <th>CountryKey</th>\n",
       "      <th>VerifCode</th>\n",
       "      <th>BankKey</th>\n",
       "      <th>SectorCode</th>\n",
       "      <th>BankAccNr</th>\n",
       "      <th>CheckDigit</th>\n",
       "      <th>Firm</th>\n",
       "      <th>Street</th>\n",
       "      <th>HouseNr.</th>\n",
       "      <th>City</th>\n",
       "      <th>Postcode</th>\n",
       "      <th>Country</th>\n",
       "    </tr>\n",
       "  </thead>\n",
       "  <tbody>\n",
       "    <tr>\n",
       "      <th>0</th>\n",
       "      <td>1</td>\n",
       "      <td>1</td>\n",
       "      <td>Sparkasse</td>\n",
       "      <td>DE</td>\n",
       "      <td>44</td>\n",
       "      <td>85708525</td>\n",
       "      <td>-</td>\n",
       "      <td>9092573071</td>\n",
       "      <td>-</td>\n",
       "      <td>Workflow GmbH</td>\n",
       "      <td>Berlinerstraße</td>\n",
       "      <td>12</td>\n",
       "      <td>Berlin</td>\n",
       "      <td>10115</td>\n",
       "      <td>Germany</td>\n",
       "    </tr>\n",
       "    <tr>\n",
       "      <th>1</th>\n",
       "      <td>2</td>\n",
       "      <td>1</td>\n",
       "      <td>Sparkasse</td>\n",
       "      <td>DE</td>\n",
       "      <td>27</td>\n",
       "      <td>34010441</td>\n",
       "      <td>-</td>\n",
       "      <td>1517137596</td>\n",
       "      <td>-</td>\n",
       "      <td>Workflow GmbH</td>\n",
       "      <td>Berlinerstraße</td>\n",
       "      <td>12</td>\n",
       "      <td>Berlin</td>\n",
       "      <td>10115</td>\n",
       "      <td>Germany</td>\n",
       "    </tr>\n",
       "    <tr>\n",
       "      <th>2</th>\n",
       "      <td>3</td>\n",
       "      <td>2</td>\n",
       "      <td>BGFI</td>\n",
       "      <td>FR</td>\n",
       "      <td>29</td>\n",
       "      <td>53954085</td>\n",
       "      <td>12914</td>\n",
       "      <td>93097</td>\n",
       "      <td>31</td>\n",
       "      <td>Consulting_solutions</td>\n",
       "      <td>Elysees</td>\n",
       "      <td>11</td>\n",
       "      <td>Montord</td>\n",
       "      <td>33452</td>\n",
       "      <td>France</td>\n",
       "    </tr>\n",
       "    <tr>\n",
       "      <th>3</th>\n",
       "      <td>4</td>\n",
       "      <td>3</td>\n",
       "      <td>BGFI</td>\n",
       "      <td>FR</td>\n",
       "      <td>92</td>\n",
       "      <td>29603999</td>\n",
       "      <td>98110</td>\n",
       "      <td>90295</td>\n",
       "      <td>6</td>\n",
       "      <td>Consulting_regulations</td>\n",
       "      <td>Prugne</td>\n",
       "      <td>73</td>\n",
       "      <td>Cesset</td>\n",
       "      <td>24532</td>\n",
       "      <td>France</td>\n",
       "    </tr>\n",
       "    <tr>\n",
       "      <th>4</th>\n",
       "      <td>5</td>\n",
       "      <td>3</td>\n",
       "      <td>Banco Frances</td>\n",
       "      <td>FR</td>\n",
       "      <td>63</td>\n",
       "      <td>67849978</td>\n",
       "      <td>16309</td>\n",
       "      <td>91904</td>\n",
       "      <td>9</td>\n",
       "      <td>Consulting_regulations</td>\n",
       "      <td>Prugne</td>\n",
       "      <td>73</td>\n",
       "      <td>Cesset</td>\n",
       "      <td>24532</td>\n",
       "      <td>France</td>\n",
       "    </tr>\n",
       "  </tbody>\n",
       "</table>\n",
       "</div>"
      ],
      "text/plain": [
       "   Bank_ID  Creditor_ID       Bankname CountryKey  VerifCode   BankKey  \\\n",
       "0        1            1      Sparkasse         DE         44  85708525   \n",
       "1        2            1      Sparkasse         DE         27  34010441   \n",
       "2        3            2           BGFI         FR         29  53954085   \n",
       "3        4            3           BGFI         FR         92  29603999   \n",
       "4        5            3  Banco Frances         FR         63  67849978   \n",
       "\n",
       "  SectorCode   BankAccNr CheckDigit                    Firm          Street  \\\n",
       "0          -  9092573071          -           Workflow GmbH  Berlinerstraße   \n",
       "1          -  1517137596          -           Workflow GmbH  Berlinerstraße   \n",
       "2      12914       93097         31    Consulting_solutions         Elysees   \n",
       "3      98110       90295          6  Consulting_regulations          Prugne   \n",
       "4      16309       91904          9  Consulting_regulations          Prugne   \n",
       "\n",
       "   HouseNr.     City  Postcode  Country  \n",
       "0        12   Berlin     10115  Germany  \n",
       "1        12   Berlin     10115  Germany  \n",
       "2        11  Montord     33452   France  \n",
       "3        73   Cesset     24532   France  \n",
       "4        73   Cesset     24532   France  "
      ]
     },
     "execution_count": 14,
     "metadata": {},
     "output_type": "execute_result"
    }
   ],
   "source": [
    "# MERGING DATA\n",
    "\n",
    "print(df_accounts_receivable.columns)\n",
    "print(df_bank_accounts.columns)\n",
    "\n",
    "df_accounts_receivable_banks = df_bank_accounts.merge(df_accounts_receivable, how = 'inner', left_on = 'Creditor_ID', right_on = 'Creditor_ID')\n",
    "df_accounts_receivable_banks.head()"
   ]
  },
  {
   "cell_type": "markdown",
   "metadata": {},
   "source": [
    "--------------"
   ]
  },
  {
   "cell_type": "markdown",
   "metadata": {},
   "source": [
    "## 5. Modeling <a id=\"Modeling\"></a>"
   ]
  },
  {
   "cell_type": "markdown",
   "metadata": {},
   "source": [
    "### 5.1 Sunday Entries <a id=\"Sunday_Entries\"></a>\n",
    "\n",
    "We proceed by filtering the transactions that were posted on a Sunday."
   ]
  },
  {
   "cell_type": "markdown",
   "metadata": {},
   "source": [
    "[Code section 15]"
   ]
  },
  {
   "cell_type": "code",
   "execution_count": 15,
   "metadata": {},
   "outputs": [
    {
     "name": "stdout",
     "output_type": "stream",
     "text": [
      "The number of books entered on Sundays is 15 out of a total of 107 books.\n"
     ]
    }
   ],
   "source": [
    "# RETRIEVING WEEKEND BOOKINGS\n",
    "\n",
    "df_transactions_sundays = df_transactions[df_transactions['DayOfTheWeek'] == \"Sunday\"]\n",
    "print(\"The number of books entered on Sundays is\", df_transactions_sundays.shape[0], \"out of a total of\", df_transactions.shape[0], \"books.\")"
   ]
  },
  {
   "cell_type": "markdown",
   "metadata": {},
   "source": [
    "### 5.2 Cash Minus Inspection <a id=\"Cash_Minus_Inspection\"></a>\n",
    "\n",
    "Now, we check if the cash account has ever been negative."
   ]
  },
  {
   "cell_type": "markdown",
   "metadata": {},
   "source": [
    "[Code section 16]"
   ]
  },
  {
   "cell_type": "code",
   "execution_count": 16,
   "metadata": {},
   "outputs": [
    {
     "name": "stdout",
     "output_type": "stream",
     "text": [
      "Cash register was  5 times in minus.\n"
     ]
    },
    {
     "data": {
      "text/html": [
       "<div>\n",
       "<style scoped>\n",
       "    .dataframe tbody tr th:only-of-type {\n",
       "        vertical-align: middle;\n",
       "    }\n",
       "\n",
       "    .dataframe tbody tr th {\n",
       "        vertical-align: top;\n",
       "    }\n",
       "\n",
       "    .dataframe thead th {\n",
       "        text-align: right;\n",
       "    }\n",
       "</style>\n",
       "<table border=\"1\" class=\"dataframe\">\n",
       "  <thead>\n",
       "    <tr style=\"text-align: right;\">\n",
       "      <th></th>\n",
       "      <th>Booking_ID</th>\n",
       "      <th>Debitor_ID</th>\n",
       "      <th>Creditor_ID</th>\n",
       "      <th>Product_ID</th>\n",
       "      <th>AccNr_Debit</th>\n",
       "      <th>AccNr_Credit</th>\n",
       "      <th>Value</th>\n",
       "      <th>Date</th>\n",
       "      <th>Time</th>\n",
       "      <th>PaymentTarget</th>\n",
       "      <th>Paid</th>\n",
       "      <th>Reminders</th>\n",
       "      <th>DayOfTheWeek</th>\n",
       "      <th>Cumulative_Sum</th>\n",
       "    </tr>\n",
       "  </thead>\n",
       "  <tbody>\n",
       "    <tr>\n",
       "      <th>1</th>\n",
       "      <td>6</td>\n",
       "      <td>-</td>\n",
       "      <td>11</td>\n",
       "      <td>-</td>\n",
       "      <td>5100</td>\n",
       "      <td>1000</td>\n",
       "      <td>193.33</td>\n",
       "      <td>2018-01-05</td>\n",
       "      <td>13:14</td>\n",
       "      <td>-</td>\n",
       "      <td>yes</td>\n",
       "      <td>0</td>\n",
       "      <td>Friday</td>\n",
       "      <td>-10.93</td>\n",
       "    </tr>\n",
       "    <tr>\n",
       "      <th>5</th>\n",
       "      <td>20</td>\n",
       "      <td>-</td>\n",
       "      <td>11</td>\n",
       "      <td>-</td>\n",
       "      <td>5100</td>\n",
       "      <td>1000</td>\n",
       "      <td>1500.00</td>\n",
       "      <td>2018-01-14</td>\n",
       "      <td>16:33</td>\n",
       "      <td>-</td>\n",
       "      <td>yes</td>\n",
       "      <td>0</td>\n",
       "      <td>Sunday</td>\n",
       "      <td>-268.57</td>\n",
       "    </tr>\n",
       "    <tr>\n",
       "      <th>6</th>\n",
       "      <td>22</td>\n",
       "      <td>2</td>\n",
       "      <td>-</td>\n",
       "      <td>8</td>\n",
       "      <td>1000</td>\n",
       "      <td>8000</td>\n",
       "      <td>33.40</td>\n",
       "      <td>2018-01-16</td>\n",
       "      <td>22:46</td>\n",
       "      <td>-</td>\n",
       "      <td>yes</td>\n",
       "      <td>0</td>\n",
       "      <td>Tuesday</td>\n",
       "      <td>-235.17</td>\n",
       "    </tr>\n",
       "    <tr>\n",
       "      <th>7</th>\n",
       "      <td>25</td>\n",
       "      <td>11</td>\n",
       "      <td>-</td>\n",
       "      <td>2</td>\n",
       "      <td>1000</td>\n",
       "      <td>8000</td>\n",
       "      <td>17.56</td>\n",
       "      <td>2018-01-18</td>\n",
       "      <td>03:32</td>\n",
       "      <td>-</td>\n",
       "      <td>yes</td>\n",
       "      <td>0</td>\n",
       "      <td>Thursday</td>\n",
       "      <td>-217.61</td>\n",
       "    </tr>\n",
       "    <tr>\n",
       "      <th>8</th>\n",
       "      <td>34</td>\n",
       "      <td>10</td>\n",
       "      <td>-</td>\n",
       "      <td>9</td>\n",
       "      <td>1000</td>\n",
       "      <td>8000</td>\n",
       "      <td>3.80</td>\n",
       "      <td>2018-01-28</td>\n",
       "      <td>16:24</td>\n",
       "      <td>-</td>\n",
       "      <td>yes</td>\n",
       "      <td>0</td>\n",
       "      <td>Sunday</td>\n",
       "      <td>-213.81</td>\n",
       "    </tr>\n",
       "  </tbody>\n",
       "</table>\n",
       "</div>"
      ],
      "text/plain": [
       "   Booking_ID Debitor_ID Creditor_ID Product_ID  AccNr_Debit  AccNr_Credit  \\\n",
       "1           6          -          11          -         5100          1000   \n",
       "5          20          -          11          -         5100          1000   \n",
       "6          22          2           -          8         1000          8000   \n",
       "7          25         11           -          2         1000          8000   \n",
       "8          34         10           -          9         1000          8000   \n",
       "\n",
       "     Value       Date   Time PaymentTarget Paid  Reminders DayOfTheWeek  \\\n",
       "1   193.33 2018-01-05  13:14             -  yes          0       Friday   \n",
       "5  1500.00 2018-01-14  16:33             -  yes          0       Sunday   \n",
       "6    33.40 2018-01-16  22:46             -  yes          0      Tuesday   \n",
       "7    17.56 2018-01-18  03:32             -  yes          0     Thursday   \n",
       "8     3.80 2018-01-28  16:24             -  yes          0       Sunday   \n",
       "\n",
       "   Cumulative_Sum  \n",
       "1          -10.93  \n",
       "5         -268.57  \n",
       "6         -235.17  \n",
       "7         -217.61  \n",
       "8         -213.81  "
      ]
     },
     "execution_count": 16,
     "metadata": {},
     "output_type": "execute_result"
    }
   ],
   "source": [
    "# CALCULATING CUMULATIVE SUM\n",
    "\n",
    "df_cash_book = df_cash_book.reset_index(drop = True)\n",
    "\n",
    "c = 0\n",
    "\n",
    "for i in range(0, len(df_cash_book)):\n",
    "\n",
    "    entry = df_cash_book.Value[i]\n",
    "    if df_cash_book.AccNr_Credit[i] == 1000:\n",
    "        entry = entry * (-1)\n",
    "\n",
    "    c = c + entry\n",
    "    df_cash_book.loc[i, 'Cumulative_Sum'] = c\n",
    "\n",
    "print(\"Cash register was \", (df_cash_book.Cumulative_Sum < 0).sum(), \"times in minus.\")\n",
    "\n",
    "df_cash_book[df_cash_book.Cumulative_Sum < 0]"
   ]
  },
  {
   "cell_type": "markdown",
   "metadata": {},
   "source": [
    "### 5.3 Checking for duplicates <a id=\"Checking_for_duplicates\"></a>\n",
    "\n",
    "We proceed by checking for duplicates in the `df_accounts_payable` data-frame."
   ]
  },
  {
   "cell_type": "markdown",
   "metadata": {},
   "source": [
    "[Code section 17]"
   ]
  },
  {
   "cell_type": "code",
   "execution_count": 17,
   "metadata": {},
   "outputs": [
    {
     "name": "stdout",
     "output_type": "stream",
     "text": [
      "The number of duplicates in the Accounts Receivable Bank data-frame is 1\n",
      "The index of the duplicate is: 30\n"
     ]
    }
   ],
   "source": [
    "# CHECKING FOR DUPLICATES\n",
    "\n",
    "BankAccNr_duplicates = df_accounts_receivable_banks.loc[df_accounts_receivable_banks.BankAccNr.duplicated(), 'BankAccNr']\n",
    "print(\"The number of duplicates in the Accounts Receivable Bank data-frame is\", BankAccNr_duplicates.shape[0])\n",
    "print(\"The index of the duplicate is:\" , BankAccNr_duplicates.index[0])\n",
    "\n",
    "# # Another way of showing the index of the duplicate\n",
    "# df_accounts_receivable_banks['BankAccNr'].isin(BankAccNr_duplicates)\n",
    "\n",
    "# # Alternative\n",
    "# df_accounts_receivable_banks[df_accounts_receivable_banks.BankAccNr.duplicated()]\n",
    "# # Note: indicates only the duplicate!\n"
   ]
  },
  {
   "cell_type": "markdown",
   "metadata": {},
   "source": [
    "### 5.4 Checking the pre-decimal digits for equal (uniform) distribution <a id=\"Checking_the_pre-decimal_digits_for_equal_distribution\"></a>\n",
    "\n",
    "We proceed by checking the pre-decimal digits for equal (uniform) distribution, using the Chi-square test."
   ]
  },
  {
   "cell_type": "markdown",
   "metadata": {},
   "source": [
    "[Code section 18]"
   ]
  },
  {
   "cell_type": "code",
   "execution_count": 18,
   "metadata": {},
   "outputs": [
    {
     "name": "stdout",
     "output_type": "stream",
     "text": [
      "0\n",
      "0     2\n",
      "1     5\n",
      "2    23\n",
      "3    31\n",
      "4     3\n",
      "5     6\n",
      "6    12\n",
      "7    11\n",
      "8     3\n",
      "9    11\n",
      "Name: count, dtype: int64\n"
     ]
    },
    {
     "data": {
      "text/plain": [
       "Power_divergenceResult(statistic=np.float64(76.08411214953271), pvalue=np.float64(9.65032885139533e-13))"
      ]
     },
     "execution_count": 18,
     "metadata": {},
     "output_type": "execute_result"
    }
   ],
   "source": [
    "# CHECKING THE PRE-DECIMAL DIGITS FOR EQUAL (UNIFORM) DISTRIBUTION\n",
    "\n",
    "Integer = df_transactions.Value.astype(int)\n",
    "\n",
    "DigitBeforeComma = pd.DataFrame([int(str(x)[-1]) for x in Integer])\n",
    "\n",
    "# # Alternative way of doing that\n",
    "# DigitBeforeComma = pd.DataFrame(Integer).astype(str)\n",
    "# DigitBeforeComma['DigitBeforeComma'] = DigitBeforeComma['Value'].str[-1]\n",
    "\n",
    "# # Another alternative way of doing that\n",
    "# DigitBeforeComma = pd.DataFrame(map(int, [str(x)[-1] for x in Integer]))\n",
    "\n",
    "H_DigitBeforeComma = DigitBeforeComma.value_counts()\n",
    "H_DigitBeforeComma = H_DigitBeforeComma.sort_index()\n",
    "print(H_DigitBeforeComma)\n",
    "\n",
    "sp.stats.chisquare(H_DigitBeforeComma)"
   ]
  },
  {
   "cell_type": "markdown",
   "metadata": {},
   "source": [
    "The null hypothesis can be rejected at any significance level lower than $\\alpha = 0.05$. The output of the Chi Square test shows that our p-value is of $9.65e-13$, hence even smaller than the more restrictive threshold of $0.01$. Therefore, we see infimal empirical evidence in favour of the null hypothesis (that is, the precomma digits of the booking values follow the equal distribution) and so we reject it. "
   ]
  },
  {
   "cell_type": "markdown",
   "metadata": {},
   "source": [
    "### 5.5 Checking the leading digit for a Benford distribution <a id=\"Checking_the_leading_digit_for_a_Benford_distribution\"></a>\n",
    "\n",
    "We proceed by visualizing the Benford distribution."
   ]
  },
  {
   "cell_type": "markdown",
   "metadata": {},
   "source": [
    "[Code section 19]"
   ]
  },
  {
   "cell_type": "code",
   "execution_count": 19,
   "metadata": {},
   "outputs": [
    {
     "data": {
      "application/vnd.plotly.v1+json": {
       "config": {
        "plotlyServerURL": "https://plot.ly"
       },
       "data": [
        {
         "alignmentgroup": "True",
         "bingroup": "x",
         "histfunc": "sum",
         "histnorm": "probability density",
         "hovertemplate": "x=%{x}<br>probability density weighted by y=%{y}<extra></extra>",
         "legendgroup": "",
         "marker": {
          "color": "#636efa",
          "pattern": {
           "shape": ""
          }
         },
         "name": "",
         "nbinsx": 9,
         "offsetgroup": "",
         "orientation": "v",
         "showlegend": false,
         "type": "histogram",
         "x": [
          1,
          2,
          3,
          4,
          5,
          6,
          7,
          8,
          9
         ],
         "xaxis": "x",
         "y": [
          0.3010299956639812,
          0.17609125905568124,
          0.12493873660829993,
          0.09691001300805642,
          0.07918124604762482,
          0.06694678963061322,
          0.05799194697768673,
          0.05115252244738129,
          0.04575749056067514
         ],
         "yaxis": "y"
        }
       ],
       "layout": {
        "bargap": 0.1,
        "barmode": "relative",
        "legend": {
         "tracegroupgap": 0
        },
        "margin": {
         "t": 60
        },
        "template": {
         "data": {
          "bar": [
           {
            "error_x": {
             "color": "#2a3f5f"
            },
            "error_y": {
             "color": "#2a3f5f"
            },
            "marker": {
             "line": {
              "color": "#E5ECF6",
              "width": 0.5
             },
             "pattern": {
              "fillmode": "overlay",
              "size": 10,
              "solidity": 0.2
             }
            },
            "type": "bar"
           }
          ],
          "barpolar": [
           {
            "marker": {
             "line": {
              "color": "#E5ECF6",
              "width": 0.5
             },
             "pattern": {
              "fillmode": "overlay",
              "size": 10,
              "solidity": 0.2
             }
            },
            "type": "barpolar"
           }
          ],
          "carpet": [
           {
            "aaxis": {
             "endlinecolor": "#2a3f5f",
             "gridcolor": "white",
             "linecolor": "white",
             "minorgridcolor": "white",
             "startlinecolor": "#2a3f5f"
            },
            "baxis": {
             "endlinecolor": "#2a3f5f",
             "gridcolor": "white",
             "linecolor": "white",
             "minorgridcolor": "white",
             "startlinecolor": "#2a3f5f"
            },
            "type": "carpet"
           }
          ],
          "choropleth": [
           {
            "colorbar": {
             "outlinewidth": 0,
             "ticks": ""
            },
            "type": "choropleth"
           }
          ],
          "contour": [
           {
            "colorbar": {
             "outlinewidth": 0,
             "ticks": ""
            },
            "colorscale": [
             [
              0,
              "#0d0887"
             ],
             [
              0.1111111111111111,
              "#46039f"
             ],
             [
              0.2222222222222222,
              "#7201a8"
             ],
             [
              0.3333333333333333,
              "#9c179e"
             ],
             [
              0.4444444444444444,
              "#bd3786"
             ],
             [
              0.5555555555555556,
              "#d8576b"
             ],
             [
              0.6666666666666666,
              "#ed7953"
             ],
             [
              0.7777777777777778,
              "#fb9f3a"
             ],
             [
              0.8888888888888888,
              "#fdca26"
             ],
             [
              1,
              "#f0f921"
             ]
            ],
            "type": "contour"
           }
          ],
          "contourcarpet": [
           {
            "colorbar": {
             "outlinewidth": 0,
             "ticks": ""
            },
            "type": "contourcarpet"
           }
          ],
          "heatmap": [
           {
            "colorbar": {
             "outlinewidth": 0,
             "ticks": ""
            },
            "colorscale": [
             [
              0,
              "#0d0887"
             ],
             [
              0.1111111111111111,
              "#46039f"
             ],
             [
              0.2222222222222222,
              "#7201a8"
             ],
             [
              0.3333333333333333,
              "#9c179e"
             ],
             [
              0.4444444444444444,
              "#bd3786"
             ],
             [
              0.5555555555555556,
              "#d8576b"
             ],
             [
              0.6666666666666666,
              "#ed7953"
             ],
             [
              0.7777777777777778,
              "#fb9f3a"
             ],
             [
              0.8888888888888888,
              "#fdca26"
             ],
             [
              1,
              "#f0f921"
             ]
            ],
            "type": "heatmap"
           }
          ],
          "heatmapgl": [
           {
            "colorbar": {
             "outlinewidth": 0,
             "ticks": ""
            },
            "colorscale": [
             [
              0,
              "#0d0887"
             ],
             [
              0.1111111111111111,
              "#46039f"
             ],
             [
              0.2222222222222222,
              "#7201a8"
             ],
             [
              0.3333333333333333,
              "#9c179e"
             ],
             [
              0.4444444444444444,
              "#bd3786"
             ],
             [
              0.5555555555555556,
              "#d8576b"
             ],
             [
              0.6666666666666666,
              "#ed7953"
             ],
             [
              0.7777777777777778,
              "#fb9f3a"
             ],
             [
              0.8888888888888888,
              "#fdca26"
             ],
             [
              1,
              "#f0f921"
             ]
            ],
            "type": "heatmapgl"
           }
          ],
          "histogram": [
           {
            "marker": {
             "pattern": {
              "fillmode": "overlay",
              "size": 10,
              "solidity": 0.2
             }
            },
            "type": "histogram"
           }
          ],
          "histogram2d": [
           {
            "colorbar": {
             "outlinewidth": 0,
             "ticks": ""
            },
            "colorscale": [
             [
              0,
              "#0d0887"
             ],
             [
              0.1111111111111111,
              "#46039f"
             ],
             [
              0.2222222222222222,
              "#7201a8"
             ],
             [
              0.3333333333333333,
              "#9c179e"
             ],
             [
              0.4444444444444444,
              "#bd3786"
             ],
             [
              0.5555555555555556,
              "#d8576b"
             ],
             [
              0.6666666666666666,
              "#ed7953"
             ],
             [
              0.7777777777777778,
              "#fb9f3a"
             ],
             [
              0.8888888888888888,
              "#fdca26"
             ],
             [
              1,
              "#f0f921"
             ]
            ],
            "type": "histogram2d"
           }
          ],
          "histogram2dcontour": [
           {
            "colorbar": {
             "outlinewidth": 0,
             "ticks": ""
            },
            "colorscale": [
             [
              0,
              "#0d0887"
             ],
             [
              0.1111111111111111,
              "#46039f"
             ],
             [
              0.2222222222222222,
              "#7201a8"
             ],
             [
              0.3333333333333333,
              "#9c179e"
             ],
             [
              0.4444444444444444,
              "#bd3786"
             ],
             [
              0.5555555555555556,
              "#d8576b"
             ],
             [
              0.6666666666666666,
              "#ed7953"
             ],
             [
              0.7777777777777778,
              "#fb9f3a"
             ],
             [
              0.8888888888888888,
              "#fdca26"
             ],
             [
              1,
              "#f0f921"
             ]
            ],
            "type": "histogram2dcontour"
           }
          ],
          "mesh3d": [
           {
            "colorbar": {
             "outlinewidth": 0,
             "ticks": ""
            },
            "type": "mesh3d"
           }
          ],
          "parcoords": [
           {
            "line": {
             "colorbar": {
              "outlinewidth": 0,
              "ticks": ""
             }
            },
            "type": "parcoords"
           }
          ],
          "pie": [
           {
            "automargin": true,
            "type": "pie"
           }
          ],
          "scatter": [
           {
            "fillpattern": {
             "fillmode": "overlay",
             "size": 10,
             "solidity": 0.2
            },
            "type": "scatter"
           }
          ],
          "scatter3d": [
           {
            "line": {
             "colorbar": {
              "outlinewidth": 0,
              "ticks": ""
             }
            },
            "marker": {
             "colorbar": {
              "outlinewidth": 0,
              "ticks": ""
             }
            },
            "type": "scatter3d"
           }
          ],
          "scattercarpet": [
           {
            "marker": {
             "colorbar": {
              "outlinewidth": 0,
              "ticks": ""
             }
            },
            "type": "scattercarpet"
           }
          ],
          "scattergeo": [
           {
            "marker": {
             "colorbar": {
              "outlinewidth": 0,
              "ticks": ""
             }
            },
            "type": "scattergeo"
           }
          ],
          "scattergl": [
           {
            "marker": {
             "colorbar": {
              "outlinewidth": 0,
              "ticks": ""
             }
            },
            "type": "scattergl"
           }
          ],
          "scattermapbox": [
           {
            "marker": {
             "colorbar": {
              "outlinewidth": 0,
              "ticks": ""
             }
            },
            "type": "scattermapbox"
           }
          ],
          "scatterpolar": [
           {
            "marker": {
             "colorbar": {
              "outlinewidth": 0,
              "ticks": ""
             }
            },
            "type": "scatterpolar"
           }
          ],
          "scatterpolargl": [
           {
            "marker": {
             "colorbar": {
              "outlinewidth": 0,
              "ticks": ""
             }
            },
            "type": "scatterpolargl"
           }
          ],
          "scatterternary": [
           {
            "marker": {
             "colorbar": {
              "outlinewidth": 0,
              "ticks": ""
             }
            },
            "type": "scatterternary"
           }
          ],
          "surface": [
           {
            "colorbar": {
             "outlinewidth": 0,
             "ticks": ""
            },
            "colorscale": [
             [
              0,
              "#0d0887"
             ],
             [
              0.1111111111111111,
              "#46039f"
             ],
             [
              0.2222222222222222,
              "#7201a8"
             ],
             [
              0.3333333333333333,
              "#9c179e"
             ],
             [
              0.4444444444444444,
              "#bd3786"
             ],
             [
              0.5555555555555556,
              "#d8576b"
             ],
             [
              0.6666666666666666,
              "#ed7953"
             ],
             [
              0.7777777777777778,
              "#fb9f3a"
             ],
             [
              0.8888888888888888,
              "#fdca26"
             ],
             [
              1,
              "#f0f921"
             ]
            ],
            "type": "surface"
           }
          ],
          "table": [
           {
            "cells": {
             "fill": {
              "color": "#EBF0F8"
             },
             "line": {
              "color": "white"
             }
            },
            "header": {
             "fill": {
              "color": "#C8D4E3"
             },
             "line": {
              "color": "white"
             }
            },
            "type": "table"
           }
          ]
         },
         "layout": {
          "annotationdefaults": {
           "arrowcolor": "#2a3f5f",
           "arrowhead": 0,
           "arrowwidth": 1
          },
          "autotypenumbers": "strict",
          "coloraxis": {
           "colorbar": {
            "outlinewidth": 0,
            "ticks": ""
           }
          },
          "colorscale": {
           "diverging": [
            [
             0,
             "#8e0152"
            ],
            [
             0.1,
             "#c51b7d"
            ],
            [
             0.2,
             "#de77ae"
            ],
            [
             0.3,
             "#f1b6da"
            ],
            [
             0.4,
             "#fde0ef"
            ],
            [
             0.5,
             "#f7f7f7"
            ],
            [
             0.6,
             "#e6f5d0"
            ],
            [
             0.7,
             "#b8e186"
            ],
            [
             0.8,
             "#7fbc41"
            ],
            [
             0.9,
             "#4d9221"
            ],
            [
             1,
             "#276419"
            ]
           ],
           "sequential": [
            [
             0,
             "#0d0887"
            ],
            [
             0.1111111111111111,
             "#46039f"
            ],
            [
             0.2222222222222222,
             "#7201a8"
            ],
            [
             0.3333333333333333,
             "#9c179e"
            ],
            [
             0.4444444444444444,
             "#bd3786"
            ],
            [
             0.5555555555555556,
             "#d8576b"
            ],
            [
             0.6666666666666666,
             "#ed7953"
            ],
            [
             0.7777777777777778,
             "#fb9f3a"
            ],
            [
             0.8888888888888888,
             "#fdca26"
            ],
            [
             1,
             "#f0f921"
            ]
           ],
           "sequentialminus": [
            [
             0,
             "#0d0887"
            ],
            [
             0.1111111111111111,
             "#46039f"
            ],
            [
             0.2222222222222222,
             "#7201a8"
            ],
            [
             0.3333333333333333,
             "#9c179e"
            ],
            [
             0.4444444444444444,
             "#bd3786"
            ],
            [
             0.5555555555555556,
             "#d8576b"
            ],
            [
             0.6666666666666666,
             "#ed7953"
            ],
            [
             0.7777777777777778,
             "#fb9f3a"
            ],
            [
             0.8888888888888888,
             "#fdca26"
            ],
            [
             1,
             "#f0f921"
            ]
           ]
          },
          "colorway": [
           "#636efa",
           "#EF553B",
           "#00cc96",
           "#ab63fa",
           "#FFA15A",
           "#19d3f3",
           "#FF6692",
           "#B6E880",
           "#FF97FF",
           "#FECB52"
          ],
          "font": {
           "color": "#2a3f5f"
          },
          "geo": {
           "bgcolor": "white",
           "lakecolor": "white",
           "landcolor": "#E5ECF6",
           "showlakes": true,
           "showland": true,
           "subunitcolor": "white"
          },
          "hoverlabel": {
           "align": "left"
          },
          "hovermode": "closest",
          "mapbox": {
           "style": "light"
          },
          "paper_bgcolor": "white",
          "plot_bgcolor": "#E5ECF6",
          "polar": {
           "angularaxis": {
            "gridcolor": "white",
            "linecolor": "white",
            "ticks": ""
           },
           "bgcolor": "#E5ECF6",
           "radialaxis": {
            "gridcolor": "white",
            "linecolor": "white",
            "ticks": ""
           }
          },
          "scene": {
           "xaxis": {
            "backgroundcolor": "#E5ECF6",
            "gridcolor": "white",
            "gridwidth": 2,
            "linecolor": "white",
            "showbackground": true,
            "ticks": "",
            "zerolinecolor": "white"
           },
           "yaxis": {
            "backgroundcolor": "#E5ECF6",
            "gridcolor": "white",
            "gridwidth": 2,
            "linecolor": "white",
            "showbackground": true,
            "ticks": "",
            "zerolinecolor": "white"
           },
           "zaxis": {
            "backgroundcolor": "#E5ECF6",
            "gridcolor": "white",
            "gridwidth": 2,
            "linecolor": "white",
            "showbackground": true,
            "ticks": "",
            "zerolinecolor": "white"
           }
          },
          "shapedefaults": {
           "line": {
            "color": "#2a3f5f"
           }
          },
          "ternary": {
           "aaxis": {
            "gridcolor": "white",
            "linecolor": "white",
            "ticks": ""
           },
           "baxis": {
            "gridcolor": "white",
            "linecolor": "white",
            "ticks": ""
           },
           "bgcolor": "#E5ECF6",
           "caxis": {
            "gridcolor": "white",
            "linecolor": "white",
            "ticks": ""
           }
          },
          "title": {
           "x": 0.05
          },
          "xaxis": {
           "automargin": true,
           "gridcolor": "white",
           "linecolor": "white",
           "ticks": "",
           "title": {
            "standoff": 15
           },
           "zerolinecolor": "white",
           "zerolinewidth": 2
          },
          "yaxis": {
           "automargin": true,
           "gridcolor": "white",
           "linecolor": "white",
           "ticks": "",
           "title": {
            "standoff": 15
           },
           "zerolinecolor": "white",
           "zerolinewidth": 2
          }
         }
        },
        "title": {
         "text": "Benford Distribution Probabilities"
        },
        "xaxis": {
         "anchor": "y",
         "domain": [
          0,
          1
         ],
         "title": {
          "text": "Digit"
         }
        },
        "yaxis": {
         "anchor": "x",
         "domain": [
          0,
          1
         ],
         "title": {
          "text": "Probability"
         }
        }
       }
      }
     },
     "metadata": {},
     "output_type": "display_data"
    }
   ],
   "source": [
    "# VISUALIZATION OF THE BENFORD DISTRIBUTION PROBABILITIES\n",
    "\n",
    "numbers = np.arange(1,10)\n",
    "Probs = []\n",
    "for x in numbers: Probs.append(math.log10(1 + 1/x))\n",
    "np.arange(len(numbers))\n",
    "\n",
    "Benford_distribution_histogram = px.histogram(x = numbers, y = Probs, nbins = 9, histnorm ='probability density', category_orders=dict(day=[\"1\", \"2\", \"3\", \"4\", \"5\", \"6\", \"7\", \"8\", \"9\"]))\n",
    "Benford_distribution_histogram.update_layout(bargap=0.1)\n",
    "Benford_distribution_histogram.update_xaxes(title_text='Digit')\n",
    "Benford_distribution_histogram.update_yaxes(title_text='Probability')\n",
    "Benford_distribution_histogram.update_layout(title_text='Benford Distribution Probabilities')\n",
    "display(Benford_distribution_histogram)"
   ]
  },
  {
   "cell_type": "markdown",
   "metadata": {},
   "source": [
    "Ultimately, we will check the leading digit for a Benford distribution, using the Chi-square test."
   ]
  },
  {
   "cell_type": "markdown",
   "metadata": {},
   "source": [
    "[Code section 20]"
   ]
  },
  {
   "cell_type": "code",
   "execution_count": 20,
   "metadata": {},
   "outputs": [
    {
     "name": "stdout",
     "output_type": "stream",
     "text": [
      "Below, the first digits and their frequencies are shown:\n"
     ]
    },
    {
     "data": {
      "text/html": [
       "<div>\n",
       "<style scoped>\n",
       "    .dataframe tbody tr th:only-of-type {\n",
       "        vertical-align: middle;\n",
       "    }\n",
       "\n",
       "    .dataframe tbody tr th {\n",
       "        vertical-align: top;\n",
       "    }\n",
       "\n",
       "    .dataframe thead th {\n",
       "        text-align: right;\n",
       "    }\n",
       "</style>\n",
       "<table border=\"1\" class=\"dataframe\">\n",
       "  <thead>\n",
       "    <tr style=\"text-align: right;\">\n",
       "      <th></th>\n",
       "      <th>Frequency</th>\n",
       "    </tr>\n",
       "    <tr>\n",
       "      <th>FirstDigit</th>\n",
       "      <th></th>\n",
       "    </tr>\n",
       "  </thead>\n",
       "  <tbody>\n",
       "    <tr>\n",
       "      <th>1</th>\n",
       "      <td>30</td>\n",
       "    </tr>\n",
       "    <tr>\n",
       "      <th>2</th>\n",
       "      <td>12</td>\n",
       "    </tr>\n",
       "    <tr>\n",
       "      <th>3</th>\n",
       "      <td>15</td>\n",
       "    </tr>\n",
       "    <tr>\n",
       "      <th>4</th>\n",
       "      <td>15</td>\n",
       "    </tr>\n",
       "    <tr>\n",
       "      <th>5</th>\n",
       "      <td>12</td>\n",
       "    </tr>\n",
       "    <tr>\n",
       "      <th>6</th>\n",
       "      <td>9</td>\n",
       "    </tr>\n",
       "    <tr>\n",
       "      <th>7</th>\n",
       "      <td>10</td>\n",
       "    </tr>\n",
       "    <tr>\n",
       "      <th>8</th>\n",
       "      <td>4</td>\n",
       "    </tr>\n",
       "    <tr>\n",
       "      <th>9</th>\n",
       "      <td>0</td>\n",
       "    </tr>\n",
       "  </tbody>\n",
       "</table>\n",
       "</div>"
      ],
      "text/plain": [
       "            Frequency\n",
       "FirstDigit           \n",
       "1                  30\n",
       "2                  12\n",
       "3                  15\n",
       "4                  15\n",
       "5                  12\n",
       "6                   9\n",
       "7                  10\n",
       "8                   4\n",
       "9                   0"
      ]
     },
     "metadata": {},
     "output_type": "display_data"
    },
    {
     "name": "stdout",
     "output_type": "stream",
     "text": [
      "Below, the expected frequencies are shown:\n"
     ]
    },
    {
     "data": {
      "text/html": [
       "<div>\n",
       "<style scoped>\n",
       "    .dataframe tbody tr th:only-of-type {\n",
       "        vertical-align: middle;\n",
       "    }\n",
       "\n",
       "    .dataframe tbody tr th {\n",
       "        vertical-align: top;\n",
       "    }\n",
       "\n",
       "    .dataframe thead th {\n",
       "        text-align: right;\n",
       "    }\n",
       "</style>\n",
       "<table border=\"1\" class=\"dataframe\">\n",
       "  <thead>\n",
       "    <tr style=\"text-align: right;\">\n",
       "      <th></th>\n",
       "      <th>Expected_Frequency</th>\n",
       "    </tr>\n",
       "    <tr>\n",
       "      <th>FirstDigit</th>\n",
       "      <th></th>\n",
       "    </tr>\n",
       "  </thead>\n",
       "  <tbody>\n",
       "    <tr>\n",
       "      <th>0</th>\n",
       "      <td>32.210210</td>\n",
       "    </tr>\n",
       "    <tr>\n",
       "      <th>1</th>\n",
       "      <td>18.841765</td>\n",
       "    </tr>\n",
       "    <tr>\n",
       "      <th>2</th>\n",
       "      <td>13.368445</td>\n",
       "    </tr>\n",
       "    <tr>\n",
       "      <th>3</th>\n",
       "      <td>10.369371</td>\n",
       "    </tr>\n",
       "    <tr>\n",
       "      <th>4</th>\n",
       "      <td>8.472393</td>\n",
       "    </tr>\n",
       "    <tr>\n",
       "      <th>5</th>\n",
       "      <td>7.163306</td>\n",
       "    </tr>\n",
       "    <tr>\n",
       "      <th>6</th>\n",
       "      <td>6.205138</td>\n",
       "    </tr>\n",
       "    <tr>\n",
       "      <th>7</th>\n",
       "      <td>5.473320</td>\n",
       "    </tr>\n",
       "    <tr>\n",
       "      <th>8</th>\n",
       "      <td>4.896051</td>\n",
       "    </tr>\n",
       "  </tbody>\n",
       "</table>\n",
       "</div>"
      ],
      "text/plain": [
       "            Expected_Frequency\n",
       "FirstDigit                    \n",
       "0                    32.210210\n",
       "1                    18.841765\n",
       "2                    13.368445\n",
       "3                    10.369371\n",
       "4                     8.472393\n",
       "5                     7.163306\n",
       "6                     6.205138\n",
       "7                     5.473320\n",
       "8                     4.896051"
      ]
     },
     "metadata": {},
     "output_type": "display_data"
    },
    {
     "data": {
      "text/plain": [
       "Power_divergenceResult(statistic=np.float64(14.45619805497751), pvalue=np.float64(0.0706227444346869))"
      ]
     },
     "execution_count": 20,
     "metadata": {},
     "output_type": "execute_result"
    }
   ],
   "source": [
    "# CHECKING THE FIRST DIGITS FOR BENFORD DISTRIBUTION\n",
    "\n",
    "# Creating a data-frame with the first digits of the integer values\n",
    "FirstDigit = pd.DataFrame(map(int, [str(x)[0] for x in Integer]))\n",
    "\n",
    "H_FirstDigit = pd.DataFrame(FirstDigit.value_counts().sort_index())\n",
    "H_FirstDigit.reset_index(inplace = True)\n",
    "\n",
    "H_FirstDigit.columns = ['FirstDigit', 'Frequency']\n",
    "H_FirstDigit.loc[len(H_FirstDigit)] = [9, 0]\n",
    "H_FirstDigit.set_index('FirstDigit', inplace = True)\n",
    "\n",
    "print(\"Below, the first digits and their frequencies are shown:\")\n",
    "display(H_FirstDigit)\n",
    "\n",
    "# Defining the expected frequencies\n",
    "Probs = []\n",
    "for x in numbers: Probs.append(math.log10(1 + 1/x))\n",
    "for i in range(0, len(Probs)):\n",
    "    Probs[i] = Probs[i] * len(FirstDigit)\n",
    "\n",
    "# creating a data-frame with the expected frequencies\n",
    "Probs = pd.DataFrame(Probs)\n",
    "Probs.columns = ['Expected_Frequency']\n",
    "Probs.index.name = 'FirstDigit'\n",
    "\n",
    "print(\"Below, the expected frequencies are shown:\")\n",
    "display(Probs)\n",
    "\n",
    "# Performing the Chi-square test\n",
    "sp.stats.chisquare(f_obs = H_FirstDigit[\"Frequency\"], f_exp = Probs[\"Expected_Frequency\"])"
   ]
  },
  {
   "cell_type": "markdown",
   "metadata": {},
   "source": [
    "The output shows that the null hypothesis cannot be rejected at a significance level of $5\\%$ since the p-value of the chi-square test is equal to $0.07062$. Thus, at the $5\\%$ significance level no deviation of the distribution of the first digit from the Benford distribution can be substantiated, although at the $10%$ significance level it can be."
   ]
  },
  {
   "cell_type": "markdown",
   "metadata": {},
   "source": [
    "--------------"
   ]
  },
  {
   "cell_type": "markdown",
   "metadata": {},
   "source": [
    "## 6. Evaluation <a id=\"Evaluation\"></a>\n",
    "\n",
    "The initial task was to use alternative methods of digital data analysis when auditing annual financial statements. The following conclusions can be drawn from the available synthetic data, i.e. artificially generated sample data:\n",
    "\n",
    "1. Weekend bookings: 15 bookings took place on a Sunday; the corresponding booking records can be viewed using df_transactions_sundays and should be subjected to further investigations.\n",
    "2. Cash minus inspection: The cash was five times in the minus.\n",
    "3. Validation of duplicates: A duplicate was identified (Workflow GmbH Berlin). The data must be cleaned up and consolidated.\n"
   ]
  }
 ],
 "metadata": {
  "kernelspec": {
   "display_name": "Python 3",
   "language": "python",
   "name": "python3"
  },
  "language_info": {
   "codemirror_mode": {
    "name": "ipython",
    "version": 3
   },
   "file_extension": ".py",
   "mimetype": "text/x-python",
   "name": "python",
   "nbconvert_exporter": "python",
   "pygments_lexer": "ipython3",
   "version": "3.12.8"
  }
 },
 "nbformat": 4,
 "nbformat_minor": 2
}
